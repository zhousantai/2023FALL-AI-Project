{
 "cells": [
  {
   "cell_type": "code",
   "execution_count": 3,
   "id": "94d7f43b-e0bb-4de3-99c4-6a0062e68371",
   "metadata": {
    "execution": {
     "iopub.execute_input": "2023-12-25T14:46:59.639954Z",
     "iopub.status.busy": "2023-12-25T14:46:59.639573Z",
     "iopub.status.idle": "2023-12-25T14:46:59.937323Z",
     "shell.execute_reply": "2023-12-25T14:46:59.936760Z",
     "shell.execute_reply.started": "2023-12-25T14:46:59.639915Z"
    },
    "tags": []
   },
   "outputs": [],
   "source": [
    "import pandas as pd"
   ]
  },
  {
   "cell_type": "code",
   "execution_count": 4,
   "id": "0f566b1d-73de-46d5-94ea-58809d5fd3e2",
   "metadata": {
    "execution": {
     "iopub.execute_input": "2023-12-25T14:47:01.315842Z",
     "iopub.status.busy": "2023-12-25T14:47:01.315238Z",
     "iopub.status.idle": "2023-12-25T14:47:09.684125Z",
     "shell.execute_reply": "2023-12-25T14:47:09.683397Z",
     "shell.execute_reply.started": "2023-12-25T14:47:01.315794Z"
    },
    "tags": []
   },
   "outputs": [],
   "source": [
    "train_data_original = pd.read_feather('./input/train.feather')\n",
    "labels = pd.read_csv('/openbayes/input/input0/train_labels.csv')\n",
    "test_data = pd.read_feather('./input/test.feather')"
   ]
  },
  {
   "cell_type": "code",
   "execution_count": 6,
   "id": "088d1ea4-76f0-49a5-b199-713a6563efaa",
   "metadata": {
    "execution": {
     "iopub.execute_input": "2023-12-25T11:58:27.396464Z",
     "iopub.status.busy": "2023-12-25T11:58:27.396160Z",
     "iopub.status.idle": "2023-12-25T11:58:27.400554Z",
     "shell.execute_reply": "2023-12-25T11:58:27.399928Z",
     "shell.execute_reply.started": "2023-12-25T11:58:27.396436Z"
    },
    "tags": []
   },
   "outputs": [
    {
     "name": "stdout",
     "output_type": "stream",
     "text": [
      "a70ae7ba6959cf549d812188e78f2d925a0dc24c6c4d74496d70ac9e8facd6f0\n"
     ]
    }
   ],
   "source": [
    "row_300k = labels.iloc[299999]\n",
    "print(row_300k[\"customer_ID\"])\n"
   ]
  },
  {
   "cell_type": "code",
   "execution_count": 9,
   "id": "8fb33486-edfb-4981-9b83-dd5f503442fd",
   "metadata": {
    "execution": {
     "iopub.execute_input": "2023-12-25T12:02:06.945173Z",
     "iopub.status.busy": "2023-12-25T12:02:06.944895Z",
     "iopub.status.idle": "2023-12-25T12:02:07.205784Z",
     "shell.execute_reply": "2023-12-25T12:02:07.205248Z",
     "shell.execute_reply.started": "2023-12-25T12:02:06.945148Z"
    },
    "tags": []
   },
   "outputs": [
    {
     "name": "stdout",
     "output_type": "stream",
     "text": [
      "Index([3616073, 3616074, 3616075, 3616076, 3616077, 3616078, 3616079], dtype='int64')\n"
     ]
    }
   ],
   "source": [
    "# 查找 'customerID' 列中值为 'adbcd' 的行号\n",
    "row_numbers = train_data_original.index[train_data_original['customer_ID'] == 'a70ae7ba6959cf549d812188e78f2d925a0dc24c6c4d74496d70ac9e8facd6f0']\n",
    "\n",
    "# 打印行号\n",
    "print(row_numbers)"
   ]
  },
  {
   "cell_type": "code",
   "execution_count": 5,
   "id": "7222f8dc-de34-4c02-a1f7-a6c77d38f5ea",
   "metadata": {
    "execution": {
     "iopub.execute_input": "2023-12-25T14:47:09.689363Z",
     "iopub.status.busy": "2023-12-25T14:47:09.689186Z",
     "iopub.status.idle": "2023-12-25T14:47:09.695519Z",
     "shell.execute_reply": "2023-12-25T14:47:09.694993Z",
     "shell.execute_reply.started": "2023-12-25T14:47:09.689344Z"
    },
    "tags": []
   },
   "outputs": [
    {
     "name": "stdout",
     "output_type": "stream",
     "text": [
      "<bound method NDFrame.head of                                               customer_ID  target\n",
      "0       0000099d6bd597052cdcda90ffabf56573fe9d7c79be5f...       0\n",
      "1       00000fd6641609c6ece5454664794f0340ad84dddce9a2...       0\n",
      "2       00001b22f846c82c51f6e3958ccd81970162bae8b007e8...       0\n",
      "3       000041bdba6ecadd89a52d11886e8eaaec9325906c9723...       0\n",
      "4       00007889e4fcd2614b6cbe7f8f3d2e5c728eca32d9eb8a...       0\n",
      "...                                                   ...     ...\n",
      "458908  ffff41c8a52833b56430603969b9ca48d208e7c192c6a4...       0\n",
      "458909  ffff518bb2075e4816ee3fe9f3b152c57fc0e6f01bf7fd...       0\n",
      "458910  ffff9984b999fccb2b6127635ed0736dda94e544e67e02...       0\n",
      "458911  ffffa5c46bc8de74f5a4554e74e239c8dee6b9baf38814...       1\n",
      "458912  fffff1d38b785cef84adeace64f8f83db3a0c31e8d92ea...       0\n",
      "\n",
      "[458913 rows x 2 columns]>\n"
     ]
    }
   ],
   "source": [
    "print(labels.head)"
   ]
  },
  {
   "cell_type": "code",
   "execution_count": null,
   "id": "9bfc4c77-c5dc-4101-95a9-ab9cf854eddd",
   "metadata": {},
   "outputs": [],
   "source": [
    "import pandas as pd\n",
    "import numpy as np\n",
    "\n",
    "\n",
    "prediction_LightGBM = pd.read_csv(\"path_to_your_csv_file_1.csv\")\n",
    "\n",
    "prediction_others1 = pd.read_csv(\"path_to_your_csv_file_3.csv\")\n",
    "prediction_others2 = pd.read_csv(\"path_to_your_csv_file_4.csv\")\n",
    "prediction_others3 = pd.read_csv(\"path_to_your_csv_file_5.csv\")\n",
    "\n",
    "predictions = [prediction_LightGBM, prediction_DNN, prediction_others1, prediction_others2, prediction_others3]\n",
    "\n",
    "\n",
    "ensembled_prediction = []\n",
    "\n",
    "for prediction in predictions:\n",
    "    if len(predictions) % 2 == 0 and prediction is prediction_LightGBM:  # 假如是偶数个predictions，增加LightGBM的权重\n",
    "        ensembled_prediction.append(prediction[\"prediction\"].tolist())\n",
    "    ensembled_prediction.append(prediction[\"prediction\"].tolist())\n",
    "\n",
    "# 转换为 NumPy 数组并计算均值\n",
    "ensembled_prediction = np.array(ensembled_prediction)\n",
    "ensembled_prediction = np.mean(ensembled_prediction, axis=0)\n",
    "\n",
    "# 计算最终预测\n",
    "ensembled_prediction = (ensembled_prediction > 0.5).astype(int)\n",
    "\n",
    "labels1 = pd.read_csv('/openbayes/input/input0/train_labels.csv')\n",
    "cross_validation_test_label = labels1.iloc[300000:][\"target\"]  \n",
    "\n",
    "# 计算准确率\n",
    "correct_number = (ensembled_prediction == cross_validation_test_label.values).sum()\n",
    "accuracy = correct_number / len(cross_validation_test_label)\n",
    "print(accuracy)\n"
   ]
  },
  {
   "cell_type": "code",
   "execution_count": null,
   "id": "71eba4ba-d3c6-4d1a-ada7-234cbf6e2110",
   "metadata": {},
   "outputs": [],
   "source": [
    "\n"
   ]
  },
  {
   "cell_type": "code",
   "execution_count": null,
   "id": "fb17d141-c627-4f8a-becd-4962262a3369",
   "metadata": {},
   "outputs": [],
   "source": []
  },
  {
   "cell_type": "code",
   "execution_count": null,
   "id": "f229bfe0-0882-43f8-a4e7-fe745a463071",
   "metadata": {},
   "outputs": [],
   "source": []
  }
 ],
 "metadata": {
  "kernelspec": {
   "display_name": "Python 3 (ipykernel)",
   "language": "python",
   "name": "python3"
  },
  "language_info": {
   "codemirror_mode": {
    "name": "ipython",
    "version": 3
   },
   "file_extension": ".py",
   "mimetype": "text/x-python",
   "name": "python",
   "nbconvert_exporter": "python",
   "pygments_lexer": "ipython3",
   "version": "3.8.18"
  }
 },
 "nbformat": 4,
 "nbformat_minor": 5
}
