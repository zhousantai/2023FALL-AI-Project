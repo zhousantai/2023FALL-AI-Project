{
 "cells": [
  {
   "cell_type": "code",
   "execution_count": 1,
   "id": "bd3efde3-9a72-4d06-8f0a-ac96e8110e40",
   "metadata": {
    "collapsed": true,
    "execution": {
     "iopub.execute_input": "2023-12-25T11:29:16.938214Z",
     "iopub.status.busy": "2023-12-25T11:29:16.937905Z",
     "iopub.status.idle": "2023-12-25T11:29:33.590694Z",
     "shell.execute_reply": "2023-12-25T11:29:33.589980Z",
     "shell.execute_reply.started": "2023-12-25T11:29:16.938174Z"
    },
    "jupyter": {
     "outputs_hidden": true
    },
    "tags": []
   },
   "outputs": [
    {
     "name": "stdout",
     "output_type": "stream",
     "text": [
      "Looking in indexes: https://pypi.tuna.tsinghua.edu.cn/simple\n",
      "Collecting plotly\n",
      "  Downloading https://pypi.tuna.tsinghua.edu.cn/packages/a8/07/72953cf70e3bd3a24cbc3e743e6f8539abe6e3e6d83c3c0c83426eaffd39/plotly-5.18.0-py3-none-any.whl (15.6 MB)\n",
      "\u001b[2K     \u001b[90m━━━━━━━━━━━━━━━━━━━━━━━━━━━━━━━━━━━━━━━━\u001b[0m \u001b[32m15.6/15.6 MB\u001b[0m \u001b[31m18.4 MB/s\u001b[0m eta \u001b[36m0:00:00\u001b[0m00:01\u001b[0m00:01\u001b[0m\n",
      "\u001b[?25hRequirement already satisfied: tenacity>=6.2.0 in /usr/local/lib/python3.8/site-packages (from plotly) (8.2.3)\n",
      "Requirement already satisfied: packaging in /usr/local/lib/python3.8/site-packages (from plotly) (23.1)\n",
      "Installing collected packages: plotly\n",
      "Successfully installed plotly-5.18.0\n",
      "\u001b[33mWARNING: Running pip as the 'root' user can result in broken permissions and conflicting behaviour with the system package manager. It is recommended to use a virtual environment instead: https://pip.pypa.io/warnings/venv\u001b[0m\u001b[33m\n",
      "\u001b[0mLooking in indexes: https://pypi.tuna.tsinghua.edu.cn/simple\n",
      "Collecting lightgbm\n",
      "  Downloading https://pypi.tuna.tsinghua.edu.cn/packages/a6/11/5171f6a1ecf7f008648fef6ef780d92414763ff5ba50a796657b9275dc1e/lightgbm-4.2.0-py3-none-manylinux_2_28_x86_64.whl (3.1 MB)\n",
      "\u001b[2K     \u001b[90m━━━━━━━━━━━━━━━━━━━━━━━━━━━━━━━━━━━━━━━━\u001b[0m \u001b[32m3.1/3.1 MB\u001b[0m \u001b[31m10.8 MB/s\u001b[0m eta \u001b[36m0:00:00\u001b[0m00:01\u001b[0m0:01\u001b[0m\n",
      "\u001b[?25hRequirement already satisfied: numpy in /usr/local/lib/python3.8/site-packages (from lightgbm) (1.24.4)\n",
      "Requirement already satisfied: scipy in /usr/local/lib/python3.8/site-packages (from lightgbm) (1.10.1)\n",
      "Installing collected packages: lightgbm\n",
      "Successfully installed lightgbm-4.2.0\n",
      "\u001b[33mWARNING: Running pip as the 'root' user can result in broken permissions and conflicting behaviour with the system package manager. It is recommended to use a virtual environment instead: https://pip.pypa.io/warnings/venv\u001b[0m\u001b[33m\n",
      "\u001b[0mLooking in indexes: https://pypi.tuna.tsinghua.edu.cn/simple\n",
      "Collecting pyarrow\n",
      "  Downloading https://pypi.tuna.tsinghua.edu.cn/packages/c0/c9/c8d2157aa20e257dbf3c1fc82879f9a8a3d5128aabc4fa41a15d4523a93c/pyarrow-14.0.2-cp38-cp38-manylinux_2_28_x86_64.whl (38.1 MB)\n",
      "\u001b[2K     \u001b[90m━━━━━━━━━━━━━━━━━━━━━━━━━━━━━━━━━━━━━━━━\u001b[0m \u001b[32m38.1/38.1 MB\u001b[0m \u001b[31m31.4 MB/s\u001b[0m eta \u001b[36m0:00:00\u001b[0m00:01\u001b[0m00:01\u001b[0m\n",
      "\u001b[?25hRequirement already satisfied: numpy>=1.16.6 in /usr/local/lib/python3.8/site-packages (from pyarrow) (1.24.4)\n",
      "Installing collected packages: pyarrow\n",
      "Successfully installed pyarrow-14.0.2\n",
      "\u001b[33mWARNING: Running pip as the 'root' user can result in broken permissions and conflicting behaviour with the system package manager. It is recommended to use a virtual environment instead: https://pip.pypa.io/warnings/venv\u001b[0m\u001b[33m\n",
      "\u001b[0m"
     ]
    }
   ],
   "source": [
    "!pip install plotly\n",
    "\n",
    "!pip install lightgbm\n",
    "\n",
    "!pip install pyarrow\n",
    "\n",
    "# 科学计算模块\n",
    "import matplotlib\n",
    "import numpy as np\n",
    "import pandas as pd\n",
    "\n",
    "# 绘图模块\n",
    "import matplotlib as mpl\n",
    "import matplotlib.pyplot as plt\n",
    "import plotly\n",
    "from sklearn.model_selection import train_test_split, KFold\n",
    "import numpy as np\n",
    "\n",
    "from sklearn.metrics import accuracy_score\n",
    "import lightgbm as lgb\n",
    "import pandas as pd\n",
    "import numpy as np\n",
    "from sklearn.preprocessing import OneHotEncoder"
   ]
  },
  {
   "cell_type": "code",
   "execution_count": 2,
   "id": "35f4881a-8ecd-4665-b904-5d640a8c112c",
   "metadata": {
    "execution": {
     "iopub.execute_input": "2023-12-25T11:29:33.592222Z",
     "iopub.status.busy": "2023-12-25T11:29:33.592002Z",
     "iopub.status.idle": "2023-12-25T11:29:43.939901Z",
     "shell.execute_reply": "2023-12-25T11:29:43.939184Z",
     "shell.execute_reply.started": "2023-12-25T11:29:33.592200Z"
    },
    "tags": []
   },
   "outputs": [],
   "source": [
    "train_data_original = pd.read_feather('./input/train.feather')\n",
    "labels = pd.read_csv('/openbayes/input/input0/train_labels.csv')\n",
    "test_data = pd.read_feather('./input/test.feather')"
   ]
  },
  {
   "cell_type": "code",
   "execution_count": 3,
   "id": "abc01bdf-a7cf-4a1e-9527-9032ccb8de86",
   "metadata": {
    "execution": {
     "iopub.execute_input": "2023-12-25T11:29:43.940871Z",
     "iopub.status.busy": "2023-12-25T11:29:43.940703Z",
     "iopub.status.idle": "2023-12-25T11:29:43.946618Z",
     "shell.execute_reply": "2023-12-25T11:29:43.946085Z",
     "shell.execute_reply.started": "2023-12-25T11:29:43.940853Z"
    },
    "tags": []
   },
   "outputs": [],
   "source": [
    "lgb_config = {\n",
    "    'lgb_params': {\n",
    "        'objective': 'binary',\n",
    "        'metric': 'binary_logloss',\n",
    "        'boosting': 'dart',\n",
    "        'max_depth': -1,\n",
    "        'num_leaves': 64,\n",
    "        'learning_rate': 0.035,\n",
    "        'bagging_freq': 5,\n",
    "        'bagging_fraction': 0.75,\n",
    "        'feature_fraction': 0.05,\n",
    "        'min_data_in_leaf': 256,\n",
    "        'max_bin': 63,\n",
    "        'min_data_in_bin': 256,\n",
    "        'tree_learner': 'serial',\n",
    "        'boost_from_average': 'false',\n",
    "        'lambda_l1': 0.1,\n",
    "        'lambda_l2': 30,\n",
    "        'num_threads': 24,\n",
    "        'verbosity': 1,\n",
    "    },\n",
    "    'rounds': 4500,\n",
    "    #'early_stopping_rounds': 100,\n",
    "    'verbose_eval': 50,\n",
    "}\n",
    "# 定义早停函数\n",
    "#early_stopping = lgb.early_stopping(lgb_config['early_stopping_rounds'], verbose=lgb_config['verbose_eval'])\n"
   ]
  },
  {
   "cell_type": "code",
   "execution_count": 4,
   "id": "61dcbdec-bf40-4f7f-b4b1-b88b0f620f57",
   "metadata": {
    "execution": {
     "iopub.execute_input": "2023-12-25T11:29:43.947384Z",
     "iopub.status.busy": "2023-12-25T11:29:43.947232Z",
     "iopub.status.idle": "2023-12-25T11:29:43.955339Z",
     "shell.execute_reply": "2023-12-25T11:29:43.954819Z",
     "shell.execute_reply.started": "2023-12-25T11:29:43.947367Z"
    },
    "tags": []
   },
   "outputs": [],
   "source": [
    "def optimized_preprocessing(df, mode):\n",
    "    cat_features = [\"B_30\", \"B_38\", \"D_114\", \"D_116\", \"D_117\", \"D_120\", \"D_126\", \"D_63\", \"D_64\", \"D_66\", \"D_68\"]\n",
    "    ignore_features = [\"B_30\", \"B_38\", \"D_114\", \"D_116\", \"D_117\", \"D_120\", \"D_126\", \"D_63\", \"D_64\", \"D_66\", \"D_68\",\n",
    "                       'S_2', 'customer_ID', 'target']\n",
    "    numeric_features = [col for col in df.columns if col not in ignore_features]\n",
    "    target_features = ['target']\n",
    "\n",
    "    # print(\"This is in [2], Columns before processing:\"+\",\".join(df.columns))\n",
    "\n",
    "    # 使用更高效的方式填充缺失值\n",
    "    df[numeric_features] = df[numeric_features].fillna(df[numeric_features].median())\n",
    "    df[cat_features] = df[cat_features].fillna(df[cat_features].mode().iloc[0])\n",
    "\n",
    "    # 类别特征的独热编码\n",
    "    encoder = OneHotEncoder()\n",
    "    encoded_data = encoder.fit_transform(df[cat_features]).toarray()\n",
    "    new_feature_names = encoder.get_feature_names_out(cat_features)\n",
    "    encoded_df = pd.DataFrame(encoded_data, columns=new_feature_names)\n",
    "    final_df = pd.concat([df.drop(cat_features, axis=1), encoded_df], axis=1)\n",
    "\n",
    "    # 数值特征处理\n",
    "    final_df[numeric_features] = np.floor(df[numeric_features] * 100)\n",
    "\n",
    "    # 时间特征处理\n",
    "    final_df[\"S_2\"] = pd.to_datetime(df[\"S_2\"])\n",
    "\n",
    "    # 聚合特征\n",
    "    if mode == 0:\n",
    "        agg_funcs = {\n",
    "            \"S_2\": ['count'],\n",
    "            **{name: ['last', 'nunique'] for name in new_feature_names},\n",
    "            **{name: ['mean', 'std', 'min', 'max'] for name in numeric_features},\n",
    "            label_name: ['last']  # 添加对标签的聚合操作\n",
    "        }\n",
    "    else:\n",
    "        agg_funcs = {\n",
    "            \"S_2\": ['count'],\n",
    "            **{name: ['last', 'nunique'] for name in new_feature_names},\n",
    "            **{name: ['mean', 'std', 'min', 'max'] for name in numeric_features},\n",
    "        }\n",
    "\n",
    "    final_agg_df = final_df.groupby(\"customer_ID\", sort=False).agg(agg_funcs).reset_index(drop=False)\n",
    "\n",
    "    new_feature_names = ['_'.join(x) for x in final_agg_df.columns]\n",
    "    final_agg_df.columns = new_feature_names\n",
    "    # 如果 'target_last' 存在于列名中，将其重命名为 'target'\n",
    "\n",
    "    if 'target_last' in final_agg_df.columns:\n",
    "        final_agg_df = final_agg_df.rename(columns={'target_last': 'target'})\n",
    "\n",
    "    if 'customer_ID_' in final_agg_df.columns:\n",
    "        final_agg_df = final_agg_df.rename(columns={'customer_ID_': 'customer_ID'})\n",
    "\n",
    "    customer_ids = final_agg_df['customer_ID']\n",
    "    final_agg_df.reset_index(drop=False, inplace=True)\n",
    "    final_agg_df = final_agg_df.drop(columns=['customer_ID'])\n",
    "\n",
    "    # print(\"This is in [2], final_agg_df.columns: \"+\",\".join(final_agg_df.columns))\n",
    "\n",
    "    return final_agg_df, new_feature_names, customer_ids"
   ]
  },
  {
   "cell_type": "code",
   "execution_count": 5,
   "id": "7f2569a6-bdbe-4045-8f13-745bae24d2ce",
   "metadata": {
    "execution": {
     "iopub.execute_input": "2023-12-25T11:29:43.956098Z",
     "iopub.status.busy": "2023-12-25T11:29:43.955948Z",
     "iopub.status.idle": "2023-12-25T11:29:43.960830Z",
     "shell.execute_reply": "2023-12-25T11:29:43.960410Z",
     "shell.execute_reply.started": "2023-12-25T11:29:43.956080Z"
    },
    "tags": []
   },
   "outputs": [],
   "source": [
    "def My_best_model_training(train_data, new_feature_names, lgb_config):\n",
    "    kf = KFold(n_splits=5, shuffle=True, random_state=42)\n",
    "    accuracies = []\n",
    "    models = []  # 存储每个折的模型\n",
    "\n",
    "    for train_index, test_index in kf.split(train_data):\n",
    "        X_train_fold = train_data.iloc[train_index].drop(columns=['target'])\n",
    "        y_train_fold = train_data.iloc[train_index]['target']\n",
    "        X_valid_fold = train_data.iloc[test_index].drop(columns=['target'])\n",
    "        y_valid_fold = train_data.iloc[test_index]['target']\n",
    "\n",
    "        # 将特征名称更新为新的特征名称\n",
    "        lgb_config['feature_name'] = new_feature_names\n",
    "\n",
    "        # 将训练数据和标签转换为LightGBM的Dataset对象\n",
    "         # Create LightGBM Dataset objects for training and validation\n",
    "        dtrain = lgb.Dataset(X_train_fold, label=y_train_fold)\n",
    "        dvalid = lgb.Dataset(X_valid_fold, label=y_valid_fold)\n",
    "\n",
    "        My_best_model = lgb.train(\n",
    "             lgb_config['lgb_params'],\n",
    "            dtrain,\n",
    "            num_boost_round=lgb_config['rounds'],\n",
    "            valid_sets=[dvalid],\n",
    "            verbose_eval=lgb_config['verbose_eval']\n",
    "        )\n",
    "\n",
    "        # 获取验证集上的预测概率\n",
    "        probs = My_best_model.predict(X_valid_fold)\n",
    "        pred_labels = (probs >= 0.5).astype(int)\n",
    "\n",
    "        # 计算精度\n",
    "        accuracy = accuracy_score(y_valid_fold, pred_labels)\n",
    "        accuracies.append(accuracy)\n",
    "        models.append(My_best_model)\n",
    "\n",
    "    # 返回交叉验证的平均精度和每个折的模型\n",
    "    return models, np.mean(accuracies)"
   ]
  },
  {
   "cell_type": "code",
   "execution_count": 6,
   "id": "cd1f689e-11db-4e4c-90c4-e994f32e8ee8",
   "metadata": {
    "execution": {
     "iopub.execute_input": "2023-12-25T11:29:43.961566Z",
     "iopub.status.busy": "2023-12-25T11:29:43.961409Z",
     "iopub.status.idle": "2023-12-25T11:32:45.249954Z",
     "shell.execute_reply": "2023-12-25T11:32:45.249162Z",
     "shell.execute_reply.started": "2023-12-25T11:29:43.961550Z"
    },
    "tags": []
   },
   "outputs": [],
   "source": [
    "train_data = pd.merge(train_data_original, labels, on='customer_ID', how='left')\n",
    "label_name = 'target'\n",
    "\n",
    "train_data, new_feature_names, _ = optimized_preprocessing(train_data, 0)\n",
    "\n",
    "# 移除 'customer_ID_'\n",
    "if 'customer_ID_' in new_feature_names:\n",
    "    new_feature_names.remove('customer_ID_')\n",
    "if 'S_2_count' in new_feature_names:\n",
    "    new_feature_names.remove('S_2_count')\n",
    "\n",
    "# 将 'target_last' 替换为 'target'\n",
    "if 'target_last' in new_feature_names:\n",
    "    index = new_feature_names.index('target_last')\n",
    "    new_feature_names[index] = 'target'\n",
    "\n",
    "test_data, useless, customer_ids = optimized_preprocessing(test_data, 1)"
   ]
  },
  {
   "cell_type": "code",
   "execution_count": 7,
   "id": "de083fde-547c-4b72-aa5d-7be3af425b87",
   "metadata": {
    "execution": {
     "iopub.execute_input": "2023-12-25T11:32:45.251813Z",
     "iopub.status.busy": "2023-12-25T11:32:45.251614Z",
     "iopub.status.idle": "2023-12-25T12:11:23.125268Z",
     "shell.execute_reply": "2023-12-25T12:11:23.124630Z",
     "shell.execute_reply.started": "2023-12-25T11:32:45.251791Z"
    },
    "tags": []
   },
   "outputs": [
    {
     "name": "stdout",
     "output_type": "stream",
     "text": [
      "[LightGBM] [Info] Number of positive: 95285, number of negative: 271845\n",
      "[LightGBM] [Info] Auto-choosing row-wise multi-threading, the overhead of testing was 0.084082 seconds.\n",
      "You can set `force_row_wise=true` to remove the overhead.\n",
      "And if memory is not enough, you can set `force_col_wise=true`.\n",
      "[LightGBM] [Info] Total Bins 28554\n",
      "[LightGBM] [Info] Number of data points in the train set: 367130, number of used features: 773\n"
     ]
    },
    {
     "name": "stderr",
     "output_type": "stream",
     "text": [
      "/usr/local/lib/python3.8/site-packages/lightgbm/callback.py:325: UserWarning: Early stopping is not available in dart mode\n",
      "  _log_warning('Early stopping is not available in dart mode')\n"
     ]
    },
    {
     "name": "stdout",
     "output_type": "stream",
     "text": [
      "[LightGBM] [Info] Number of positive: 95001, number of negative: 272129\n",
      "[LightGBM] [Info] Auto-choosing row-wise multi-threading, the overhead of testing was 0.065661 seconds.\n",
      "You can set `force_row_wise=true` to remove the overhead.\n",
      "And if memory is not enough, you can set `force_col_wise=true`.\n",
      "[LightGBM] [Info] Total Bins 28589\n",
      "[LightGBM] [Info] Number of data points in the train set: 367130, number of used features: 774\n"
     ]
    },
    {
     "name": "stderr",
     "output_type": "stream",
     "text": [
      "/usr/local/lib/python3.8/site-packages/lightgbm/callback.py:325: UserWarning: Early stopping is not available in dart mode\n",
      "  _log_warning('Early stopping is not available in dart mode')\n"
     ]
    },
    {
     "name": "stdout",
     "output_type": "stream",
     "text": [
      "[LightGBM] [Info] Number of positive: 95047, number of negative: 272083\n",
      "[LightGBM] [Info] Auto-choosing row-wise multi-threading, the overhead of testing was 0.069208 seconds.\n",
      "You can set `force_row_wise=true` to remove the overhead.\n",
      "And if memory is not enough, you can set `force_col_wise=true`.\n",
      "[LightGBM] [Info] Total Bins 28551\n",
      "[LightGBM] [Info] Number of data points in the train set: 367130, number of used features: 774\n"
     ]
    },
    {
     "name": "stderr",
     "output_type": "stream",
     "text": [
      "/usr/local/lib/python3.8/site-packages/lightgbm/callback.py:325: UserWarning: Early stopping is not available in dart mode\n",
      "  _log_warning('Early stopping is not available in dart mode')\n"
     ]
    },
    {
     "name": "stdout",
     "output_type": "stream",
     "text": [
      "[LightGBM] [Info] Number of positive: 94965, number of negative: 272166\n",
      "[LightGBM] [Info] Auto-choosing row-wise multi-threading, the overhead of testing was 0.069181 seconds.\n",
      "You can set `force_row_wise=true` to remove the overhead.\n",
      "And if memory is not enough, you can set `force_col_wise=true`.\n",
      "[LightGBM] [Info] Total Bins 28546\n",
      "[LightGBM] [Info] Number of data points in the train set: 367131, number of used features: 774\n"
     ]
    },
    {
     "name": "stderr",
     "output_type": "stream",
     "text": [
      "/usr/local/lib/python3.8/site-packages/lightgbm/callback.py:325: UserWarning: Early stopping is not available in dart mode\n",
      "  _log_warning('Early stopping is not available in dart mode')\n"
     ]
    },
    {
     "name": "stdout",
     "output_type": "stream",
     "text": [
      "[LightGBM] [Info] Number of positive: 95014, number of negative: 272117\n",
      "[LightGBM] [Info] Auto-choosing row-wise multi-threading, the overhead of testing was 0.067173 seconds.\n",
      "You can set `force_row_wise=true` to remove the overhead.\n",
      "And if memory is not enough, you can set `force_col_wise=true`.\n",
      "[LightGBM] [Info] Total Bins 28667\n",
      "[LightGBM] [Info] Number of data points in the train set: 367131, number of used features: 774\n"
     ]
    },
    {
     "name": "stderr",
     "output_type": "stream",
     "text": [
      "/usr/local/lib/python3.8/site-packages/lightgbm/callback.py:325: UserWarning: Early stopping is not available in dart mode\n",
      "  _log_warning('Early stopping is not available in dart mode')\n"
     ]
    },
    {
     "name": "stdout",
     "output_type": "stream",
     "text": [
      "Mean accuracy: 0.899767491684339\n"
     ]
    }
   ],
   "source": [
    "lgb_train_data = lgb.Dataset(train_data.drop(columns=['target']), label=train_data[\"target\"])\n",
    "\n",
    "models,mean_accuracy=My_best_model_training(train_data,new_feature_names,lgb_config)\n",
    "\n",
    "print(\"Mean accuracy:\",mean_accuracy)"
   ]
  },
  {
   "cell_type": "code",
   "execution_count": 8,
   "id": "b07cd83f-64a5-4cac-a415-155956a8693e",
   "metadata": {
    "execution": {
     "iopub.execute_input": "2023-12-25T12:11:23.126596Z",
     "iopub.status.busy": "2023-12-25T12:11:23.126252Z",
     "iopub.status.idle": "2023-12-25T12:11:23.137863Z",
     "shell.execute_reply": "2023-12-25T12:11:23.137441Z",
     "shell.execute_reply.started": "2023-12-25T12:11:23.126576Z"
    }
   },
   "outputs": [
    {
     "name": "stdout",
     "output_type": "stream",
     "text": [
      "Missing in Test:  {'D_64_1_nunique', 'D_68_0.0_last', 'D_64_1_last', 'D_68_0.0_nunique', 'D_66_0.0_nunique', 'target', 'D_66_0.0_last'}\n",
      "Missing in Train:  set()\n"
     ]
    }
   ],
   "source": [
    "# 找出训练数据和测试数据中特征的不一致\n",
    "train_features = set(train_data.columns)\n",
    "test_features = set(test_data.columns)\n",
    "\n",
    "# 在训练数据中存在但在测试数据中不存在的特征\n",
    "missing_in_test = train_features - test_features\n",
    "\n",
    "# 在测试数据中存在但在训练数据中不存在的特征\n",
    "missing_in_train = test_features - train_features\n",
    "\n",
    "# 输出缺失的特征\n",
    "print(\"Missing in Test: \", missing_in_test)\n",
    "print(\"Missing in Train: \", missing_in_train)\n",
    "\n",
    "# 处理缺失的特征\n",
    "# 您可以根据具体情况选择添加缺失的特征或删除多余的特征\n",
    "# 为测试集中缺失的特征添加默认值\n",
    "for feature in missing_in_test:\n",
    "    if feature != 'target':  # 排除 'target'，因为它不应该在测试集中\n",
    "        \n",
    "        test_data[feature] = 0"
   ]
  },
  {
   "cell_type": "code",
   "execution_count": 9,
   "id": "04eb4bad-c23b-474e-99f4-623833ad2581",
   "metadata": {
    "execution": {
     "iopub.execute_input": "2023-12-25T12:11:23.138612Z",
     "iopub.status.busy": "2023-12-25T12:11:23.138429Z",
     "iopub.status.idle": "2023-12-25T12:12:14.286630Z",
     "shell.execute_reply": "2023-12-25T12:12:14.285927Z",
     "shell.execute_reply.started": "2023-12-25T12:11:23.138595Z"
    }
   },
   "outputs": [],
   "source": [
    "# 对测试数据进行概率预测\n",
    "test_probs = [model.predict(test_data) for model in models]\n",
    "test_prob = np.mean(test_probs, axis=0)\n"
   ]
  },
  {
   "cell_type": "code",
   "execution_count": 10,
   "id": "36d16c77-2bde-4861-bfab-d2843f47ec21",
   "metadata": {
    "execution": {
     "iopub.execute_input": "2023-12-25T12:12:14.287794Z",
     "iopub.status.busy": "2023-12-25T12:12:14.287506Z",
     "iopub.status.idle": "2023-12-25T12:12:16.268111Z",
     "shell.execute_reply": "2023-12-25T12:12:16.267536Z",
     "shell.execute_reply.started": "2023-12-25T12:12:14.287773Z"
    },
    "tags": []
   },
   "outputs": [],
   "source": [
    "# 创建一个包含 customer_ID 和预测概率的 DataFrame\n",
    "results_df = pd.DataFrame({\n",
    "    'customer_ID': customer_ids,\n",
    "    'prediction': test_prob\n",
    "})\n",
    "\n",
    "# 将 DataFrame 保存为 CSV 文件\n",
    "result_csv = results_df.to_csv('predictions.csv', index=False)"
   ]
  },
  {
   "cell_type": "code",
   "execution_count": 14,
   "id": "5b70621f-07ed-4d35-8e33-2005a8c59e69",
   "metadata": {
    "execution": {
     "iopub.execute_input": "2023-12-25T12:21:05.163465Z",
     "iopub.status.busy": "2023-12-25T12:21:05.163013Z",
     "iopub.status.idle": "2023-12-25T12:21:05.169306Z",
     "shell.execute_reply": "2023-12-25T12:21:05.168274Z",
     "shell.execute_reply.started": "2023-12-25T12:21:05.163423Z"
    },
    "tags": []
   },
   "outputs": [
    {
     "name": "stdout",
     "output_type": "stream",
     "text": [
      "[<lightgbm.basic.Booster object at 0x7f0111401940>, <lightgbm.basic.Booster object at 0x7f01114011f0>, <lightgbm.basic.Booster object at 0x7f114c771250>, <lightgbm.basic.Booster object at 0x7f008818fa60>, <lightgbm.basic.Booster object at 0x7f114c7c6880>]\n"
     ]
    }
   ],
   "source": [
    "print(models)"
   ]
  },
  {
   "cell_type": "code",
   "execution_count": 15,
   "id": "175163e6-ee91-4cbc-b999-0ef199a7bfec",
   "metadata": {
    "execution": {
     "iopub.execute_input": "2023-12-25T12:21:37.758995Z",
     "iopub.status.busy": "2023-12-25T12:21:37.758550Z",
     "iopub.status.idle": "2023-12-25T12:21:38.030503Z",
     "shell.execute_reply": "2023-12-25T12:21:38.029875Z",
     "shell.execute_reply.started": "2023-12-25T12:21:37.758955Z"
    },
    "tags": []
   },
   "outputs": [],
   "source": [
    "for index,model in enumerate(models):\n",
    "    model.save_model(f'my_best_lightgbm_model{index}.txt')"
   ]
  },
  {
   "cell_type": "code",
   "execution_count": null,
   "id": "d6583cbe-b49f-48ab-bedb-52f421048eeb",
   "metadata": {},
   "outputs": [],
   "source": [
    "train_data_original = pd.read_feather('./input/train.feather')\n",
    "labels = pd.read_csv('/openbayes/input/input0/train_labels.csv')\n",
    "\n",
    "cross_validation_train_data=train_data_original.iloc[0:3616080]\n",
    "cross_validation_train_lable=labels.iloc[0:300000]\n",
    "cross_validation_test_data=train_data_original.iloc[3616080:]\n",
    "cross_validation_test_label=labels.iloc[300000:]"
   ]
  }
 ],
 "metadata": {
  "kernelspec": {
   "display_name": "Python 3 (ipykernel)",
   "language": "python",
   "name": "python3"
  },
  "language_info": {
   "codemirror_mode": {
    "name": "ipython",
    "version": 3
   },
   "file_extension": ".py",
   "mimetype": "text/x-python",
   "name": "python",
   "nbconvert_exporter": "python",
   "pygments_lexer": "ipython3",
   "version": "3.8.18"
  }
 },
 "nbformat": 4,
 "nbformat_minor": 5
}
