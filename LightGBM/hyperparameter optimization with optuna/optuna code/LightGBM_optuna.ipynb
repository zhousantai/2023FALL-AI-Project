{
 "cells": [
  {
   "cell_type": "code",
   "execution_count": 1,
   "id": "b71ffd59-f299-41e3-a870-781870f75f07",
   "metadata": {
    "collapsed": true,
    "execution": {
     "iopub.execute_input": "2023-12-24T08:33:38.558855Z",
     "iopub.status.busy": "2023-12-24T08:33:38.558278Z",
     "iopub.status.idle": "2023-12-24T08:33:48.358104Z",
     "shell.execute_reply": "2023-12-24T08:33:48.357544Z",
     "shell.execute_reply.started": "2023-12-24T08:33:38.558810Z"
    },
    "jupyter": {
     "outputs_hidden": true
    },
    "tags": []
   },
   "outputs": [
    {
     "name": "stdout",
     "output_type": "stream",
     "text": [
      "Looking in indexes: https://pypi.tuna.tsinghua.edu.cn/simple\n",
      "Requirement already satisfied: plotly in /usr/local/lib/python3.8/site-packages (5.18.0)\n",
      "Requirement already satisfied: tenacity>=6.2.0 in /usr/local/lib/python3.8/site-packages (from plotly) (8.2.3)\n",
      "Requirement already satisfied: packaging in /usr/local/lib/python3.8/site-packages (from plotly) (23.1)\n",
      "\u001b[33mWARNING: Running pip as the 'root' user can result in broken permissions and conflicting behaviour with the system package manager. It is recommended to use a virtual environment instead: https://pip.pypa.io/warnings/venv\u001b[0m\u001b[33m\n",
      "\u001b[0mLooking in indexes: https://pypi.tuna.tsinghua.edu.cn/simple\n",
      "Requirement already satisfied: optuna in /usr/local/lib/python3.8/site-packages (3.5.0)\n",
      "Requirement already satisfied: alembic>=1.5.0 in /usr/local/lib/python3.8/site-packages (from optuna) (1.13.1)\n",
      "Requirement already satisfied: colorlog in /usr/local/lib/python3.8/site-packages (from optuna) (6.8.0)\n",
      "Requirement already satisfied: numpy in /usr/local/lib/python3.8/site-packages (from optuna) (1.24.4)\n",
      "Requirement already satisfied: packaging>=20.0 in /usr/local/lib/python3.8/site-packages (from optuna) (23.1)\n",
      "Requirement already satisfied: sqlalchemy>=1.3.0 in /usr/local/lib/python3.8/site-packages (from optuna) (2.0.23)\n",
      "Requirement already satisfied: tqdm in /usr/local/lib/python3.8/site-packages (from optuna) (4.65.0)\n",
      "Requirement already satisfied: PyYAML in /usr/local/lib/python3.8/site-packages (from optuna) (6.0.1)\n",
      "Requirement already satisfied: Mako in /usr/local/lib/python3.8/site-packages (from alembic>=1.5.0->optuna) (1.3.0)\n",
      "Requirement already satisfied: typing-extensions>=4 in /usr/local/lib/python3.8/site-packages (from alembic>=1.5.0->optuna) (4.8.0)\n",
      "Requirement already satisfied: importlib-metadata in /usr/local/lib/python3.8/site-packages (from alembic>=1.5.0->optuna) (6.8.0)\n",
      "Requirement already satisfied: importlib-resources in /usr/local/lib/python3.8/site-packages (from alembic>=1.5.0->optuna) (6.1.1)\n",
      "Requirement already satisfied: greenlet!=0.4.17 in /usr/local/lib/python3.8/site-packages (from sqlalchemy>=1.3.0->optuna) (3.0.3)\n",
      "Requirement already satisfied: zipp>=0.5 in /usr/local/lib/python3.8/site-packages (from importlib-metadata->alembic>=1.5.0->optuna) (3.17.0)\n",
      "Requirement already satisfied: MarkupSafe>=0.9.2 in /usr/local/lib/python3.8/site-packages (from Mako->alembic>=1.5.0->optuna) (2.1.3)\n",
      "\u001b[33mWARNING: Running pip as the 'root' user can result in broken permissions and conflicting behaviour with the system package manager. It is recommended to use a virtual environment instead: https://pip.pypa.io/warnings/venv\u001b[0m\u001b[33m\n",
      "\u001b[0mLooking in indexes: https://pypi.tuna.tsinghua.edu.cn/simple\n",
      "Requirement already satisfied: lightgbm in /usr/local/lib/python3.8/site-packages (4.2.0)\n",
      "Requirement already satisfied: numpy in /usr/local/lib/python3.8/site-packages (from lightgbm) (1.24.4)\n",
      "Requirement already satisfied: scipy in /usr/local/lib/python3.8/site-packages (from lightgbm) (1.10.1)\n",
      "\u001b[33mWARNING: Running pip as the 'root' user can result in broken permissions and conflicting behaviour with the system package manager. It is recommended to use a virtual environment instead: https://pip.pypa.io/warnings/venv\u001b[0m\u001b[33m\n",
      "\u001b[0mLooking in indexes: https://pypi.tuna.tsinghua.edu.cn/simple\n",
      "Requirement already satisfied: kaleido in /usr/local/lib/python3.8/site-packages (0.2.1)\n",
      "\u001b[33mWARNING: Running pip as the 'root' user can result in broken permissions and conflicting behaviour with the system package manager. It is recommended to use a virtual environment instead: https://pip.pypa.io/warnings/venv\u001b[0m\u001b[33m\n",
      "\u001b[0mLooking in indexes: https://pypi.tuna.tsinghua.edu.cn/simple\n",
      "Requirement already satisfied: pyarrow in /usr/local/lib/python3.8/site-packages (14.0.2)\n",
      "Requirement already satisfied: numpy>=1.16.6 in /usr/local/lib/python3.8/site-packages (from pyarrow) (1.24.4)\n",
      "\u001b[33mWARNING: Running pip as the 'root' user can result in broken permissions and conflicting behaviour with the system package manager. It is recommended to use a virtual environment instead: https://pip.pypa.io/warnings/venv\u001b[0m\u001b[33m\n",
      "\u001b[0m"
     ]
    }
   ],
   "source": [
    "!pip install plotly\n",
    "\n",
    "!pip install optuna\n",
    "\n",
    "!pip install lightgbm\n",
    "\n",
    "!pip install kaleido\n",
    "\n",
    "!pip install pyarrow\n",
    "# 科学计算模块\n",
    "import matplotlib\n",
    "import numpy as np\n",
    "import pandas as pd\n",
    "\n",
    "# 绘图模块\n",
    "import matplotlib as mpl\n",
    "import matplotlib.pyplot as plt\n",
    "import plotly\n",
    "from sklearn.model_selection import train_test_split, KFold\n",
    "from sklearn.metrics import accuracy_score\n",
    "from optuna.importance import MeanDecreaseImpurityImportanceEvaluator\n",
    "from optuna.pruners import MedianPruner\n",
    "from optuna.samplers import TPESampler\n",
    "# Scikit-Learn相关模块\n",
    "# 评估器类\n",
    "from sklearn.preprocessing import StandardScaler\n",
    "from sklearn.preprocessing import PolynomialFeatures\n",
    "from sklearn.linear_model import LogisticRegression\n",
    "from sklearn.pipeline import make_pipeline\n",
    "from sklearn.model_selection import GridSearchCV\n",
    "import numpy as np\n",
    "import optuna\n",
    "import lightgbm as lgb\n",
    "import sklearn.datasets\n",
    "import sklearn.metrics\n",
    "from sklearn.model_selection import train_test_split\n",
    "# 实用函数\n",
    "from sklearn.model_selection import train_test_split\n",
    "from sklearn.metrics import accuracy_score\n",
    "\n",
    "import lightgbm as lgb\n",
    "from lightgbm import LGBMClassifier\n",
    "\n",
    "\n",
    "import pandas as pd\n",
    "import numpy as np\n",
    "from sklearn.preprocessing import OneHotEncoder\n",
    "from tqdm import tqdm"
   ]
  },
  {
   "cell_type": "code",
   "execution_count": 2,
   "id": "b509c73e-2acb-4a4f-80b3-cde78014f6b5",
   "metadata": {
    "execution": {
     "iopub.execute_input": "2023-12-24T08:33:48.359296Z",
     "iopub.status.busy": "2023-12-24T08:33:48.359064Z",
     "iopub.status.idle": "2023-12-24T08:33:48.367760Z",
     "shell.execute_reply": "2023-12-24T08:33:48.367399Z",
     "shell.execute_reply.started": "2023-12-24T08:33:48.359278Z"
    },
    "tags": []
   },
   "outputs": [],
   "source": [
    "def optimized_preprocessing(df, int):\n",
    "    cat_features = [\"B_30\", \"B_38\", \"D_114\", \"D_116\", \"D_117\", \"D_120\", \"D_126\", \"D_63\", \"D_64\", \"D_66\", \"D_68\"]\n",
    "    ignore_features = [\"B_30\", \"B_38\", \"D_114\", \"D_116\", \"D_117\", \"D_120\", \"D_126\", \"D_63\", \"D_64\", \"D_66\", \"D_68\",\n",
    "                       'S_2', 'customer_ID','target']\n",
    "    numeric_features = [col for col in df.columns if col not in ignore_features]\n",
    "    target_features = ['target']\n",
    "    \n",
    "    \n",
    "    #print(\"This is in [2], Columns before processing:\"+\",\".join(df.columns))\n",
    "    \n",
    "    \n",
    "    # 使用更高效的方式填充缺失值\n",
    "    df[numeric_features] = df[numeric_features].fillna(df[numeric_features].median())\n",
    "    df[cat_features] = df[cat_features].fillna(df[cat_features].mode().iloc[0])\n",
    "\n",
    "    # 类别特征的独热编码\n",
    "    encoder = OneHotEncoder()\n",
    "    encoded_data = encoder.fit_transform(df[cat_features]).toarray()\n",
    "    new_feature_names = encoder.get_feature_names_out(cat_features)\n",
    "    encoded_df = pd.DataFrame(encoded_data, columns=new_feature_names)\n",
    "    final_df = pd.concat([df.drop(cat_features, axis=1), encoded_df], axis=1)\n",
    "\n",
    "    # 数值特征处理\n",
    "    final_df[numeric_features] = np.floor(df[numeric_features] * 100)\n",
    "\n",
    "    # 时间特征处理\n",
    "    final_df[\"S_2\"] = pd.to_datetime(df[\"S_2\"])\n",
    "\n",
    "    # 聚合特征\n",
    "    if int == 0:\n",
    "        agg_funcs = {\n",
    "        \"S_2\": ['count'],\n",
    "        **{name: ['last', 'nunique'] for name in new_feature_names},\n",
    "        **{name: ['mean', 'std', 'min', 'max'] for name in numeric_features},\n",
    "        label_name: ['last']  # 添加对标签的聚合操作\n",
    "        }\n",
    "    else:\n",
    "        agg_funcs ={\n",
    "        \"S_2\": ['count'],\n",
    "        **{name: ['last', 'nunique'] for name in new_feature_names},\n",
    "        **{name: ['mean', 'std', 'min', 'max'] for name in numeric_features},\n",
    "        }\n",
    "        \n",
    "\n",
    "    final_agg_df = final_df.groupby(\"customer_ID\", sort=False).agg(agg_funcs).reset_index(drop=False)\n",
    "    \n",
    "    new_feature_names=['_'.join(x) for x in final_agg_df.columns]\n",
    "    final_agg_df.columns = new_feature_names\n",
    "    # 如果 'target_last' 存在于列名中，将其重命名为 'target'\n",
    "    \n",
    "    \n",
    "    if 'target_last' in final_agg_df.columns:\n",
    "        final_agg_df = final_agg_df.rename(columns={'target_last': 'target'})\n",
    "    \n",
    "    if 'customer_ID_'in final_agg_df.columns:\n",
    "        final_agg_df = final_agg_df.rename(columns={'customer_ID_': 'customer_ID'})\n",
    "    \n",
    "    customer_ids = final_agg_df['customer_ID']\n",
    "    final_agg_df.reset_index(drop=False,inplace = True)\n",
    "    final_agg_df=final_agg_df.drop(columns=['customer_ID'])\n",
    "    \n",
    "    #print(\"This is in [2], final_agg_df.columns: \"+\",\".join(final_agg_df.columns))\n",
    "    \n",
    "    return final_agg_df,new_feature_names,customer_ids\n"
   ]
  },
  {
   "cell_type": "code",
   "execution_count": 3,
   "id": "af057de8-e60f-4a9d-9774-a3fdac34338f",
   "metadata": {
    "execution": {
     "iopub.execute_input": "2023-12-24T08:33:48.368430Z",
     "iopub.status.busy": "2023-12-24T08:33:48.368287Z",
     "iopub.status.idle": "2023-12-24T08:33:48.374578Z",
     "shell.execute_reply": "2023-12-24T08:33:48.374109Z",
     "shell.execute_reply.started": "2023-12-24T08:33:48.368414Z"
    },
    "tags": []
   },
   "outputs": [],
   "source": [
    "def create_objective(train_data,new_feature_names):    \n",
    "    def objective(trial):\n",
    "        \n",
    "        kf = KFold(n_splits=5, shuffle=True, random_state=42)\n",
    "        accuracies = []\n",
    "        for train_index, test_index in kf.split(train_data):\n",
    "            \n",
    "            #print(\"train_data.columns in kf loop: \"+','.join(train_data.columns))\n",
    "            X_train_fold = train_data.iloc[train_index].drop(columns=['target'])\n",
    "            y_train_fold = train_data.iloc[train_index]['target']\n",
    "            X_valid_fold = train_data.iloc[test_index].drop(columns=['target'])\n",
    "            y_valid_fold = train_data.iloc[test_index]['target']\n",
    "\n",
    "            dtrain = lgb.Dataset(X_train_fold, label=y_train_fold)\n",
    "\n",
    "            #print(\"X_train_fold columns: \"+ ','.join(X_train_fold.columns))\n",
    "            param = {\n",
    "\n",
    "                \"objective\": \"binary\",\n",
    "                \"metric\": \"binary_logloss\",\n",
    "                \"verbosity\": -1,\n",
    "                \"boosting_type\": \"gbdt\",\n",
    "                \"lambda_l1\": trial.suggest_float(\"lambda_l1\", 1e-8, 10.0, log=True),\n",
    "                \"lambda_l2\": trial.suggest_float(\"lambda_l2\", 1e-8, 10.0, log=True),\n",
    "                \"num_leaves\": trial.suggest_int(\"num_leaves\", 2, 256),\n",
    "                \"feature_fraction\": trial.suggest_float(\"feature_fraction\", 0.4, 1.0),\n",
    "                \"bagging_fraction\": trial.suggest_float(\"bagging_fraction\", 0.4, 1.0),\n",
    "                \"bagging_freq\": trial.suggest_int(\"bagging_freq\", 1, 7),\n",
    "                \"min_child_samples\": trial.suggest_int(\"min_child_samples\", 5, 100),\n",
    "                \"learning_rate\": trial.suggest_float(\"learning_rate\", 0.01, 0.3),\n",
    "                \"max_depth\": trial.suggest_int(\"max_depth\", 3, 10),\n",
    "                \"min_data_in_leaf\": trial.suggest_int(\"min_data_in_leaf\", 20, 200),\n",
    "                \"colsample_bytree\": trial.suggest_float(\"colsample_bytree\", 0.4, 1.0),\n",
    "                #\"categorical_feature\": [\"name:\" + col for col in new_feature_names if col != \"target\"]\n",
    "            }\n",
    "\n",
    "            # 训练模型\n",
    "            gbm = lgb.train(param, dtrain)\n",
    "\n",
    "            # 获取验证集上的预测概率\n",
    "            probs = gbm.predict(X_valid_fold)\n",
    "            pred_labels = (probs >= 0.5).astype(int)\n",
    "\n",
    "            # 计算精度\n",
    "            accuracy = accuracy_score(y_valid_fold, pred_labels)\n",
    "            accuracies.append(accuracy)\n",
    "\n",
    "            # 返回交叉验证的平均精度\n",
    "        return np.mean(accuracies)\n",
    "    return objective"
   ]
  },
  {
   "cell_type": "code",
   "execution_count": null,
   "id": "f9ee1273-64c3-4148-828f-ee6ab345ac92",
   "metadata": {
    "tags": []
   },
   "outputs": [],
   "source": []
  },
  {
   "cell_type": "code",
   "execution_count": 4,
   "id": "5c245aa4-1a26-49ed-83f2-f3d3a3cb1cdd",
   "metadata": {
    "execution": {
     "iopub.execute_input": "2023-12-24T08:33:48.375257Z",
     "iopub.status.busy": "2023-12-24T08:33:48.375086Z",
     "iopub.status.idle": "2023-12-24T08:33:53.341831Z",
     "shell.execute_reply": "2023-12-24T08:33:53.340772Z",
     "shell.execute_reply.started": "2023-12-24T08:33:48.375241Z"
    },
    "tags": []
   },
   "outputs": [],
   "source": [
    "train_data_original = pd.read_feather('./input/train.feather')\n",
    "labels = pd.read_csv('/openbayes/input/input0/train_labels.csv')\n",
    "test_data = pd.read_feather('./input/test.feather')\n",
    "# 保留原有顺序，仅删除连续重复的 customer_ID\n",
    "#customer_ids = test_data['customer_ID'].drop_duplicates(keep='first') \n"
   ]
  },
  {
   "cell_type": "code",
   "execution_count": 5,
   "id": "ba386684-a7f7-4e55-a5df-947840b4d081",
   "metadata": {
    "execution": {
     "iopub.execute_input": "2023-12-24T08:33:53.349119Z",
     "iopub.status.busy": "2023-12-24T08:33:53.348852Z",
     "iopub.status.idle": "2023-12-24T08:33:55.241338Z",
     "shell.execute_reply": "2023-12-24T08:33:55.240695Z",
     "shell.execute_reply.started": "2023-12-24T08:33:53.349098Z"
    },
    "tags": []
   },
   "outputs": [
    {
     "name": "stdout",
     "output_type": "stream",
     "text": [
      "Index(['customer_ID', 'target'], dtype='object')\n",
      "Index(['customer_ID', 'S_2', 'P_2', 'D_39', 'B_1', 'B_2', 'R_1', 'S_3', 'D_41',\n",
      "       'B_3',\n",
      "       ...\n",
      "       'D_137', 'D_138', 'D_139', 'D_140', 'D_141', 'D_142', 'D_143', 'D_144',\n",
      "       'D_145', 'target'],\n",
      "      dtype='object', length=191)\n"
     ]
    }
   ],
   "source": [
    "print(labels.columns)\n",
    "\n",
    "train_data = pd.merge(train_data_original, labels, on='customer_ID', how='left')  # 合并标签列到训练数据集中\n",
    "print(train_data.columns)\n",
    "\n",
    "label_name = 'target'"
   ]
  },
  {
   "cell_type": "code",
   "execution_count": 6,
   "id": "9d07de6b-2dce-46aa-9841-96ebe1174252",
   "metadata": {
    "execution": {
     "iopub.execute_input": "2023-12-24T08:33:55.242289Z",
     "iopub.status.busy": "2023-12-24T08:33:55.242071Z",
     "iopub.status.idle": "2023-12-24T08:37:13.939579Z",
     "shell.execute_reply": "2023-12-24T08:37:13.938295Z",
     "shell.execute_reply.started": "2023-12-24T08:33:55.242271Z"
    },
    "tags": []
   },
   "outputs": [],
   "source": [
    "train_data,new_feature_names,_ = optimized_preprocessing(train_data, 0)\n",
    "# 移除 'customer_ID_'\n",
    "#print(\"***********\")\n",
    "#print(new_feature_names)\n",
    "if 'customer_ID_' in new_feature_names:\n",
    "    new_feature_names.remove('customer_ID_')\n",
    "if 'S_2_count' in new_feature_names:\n",
    "    new_feature_names.remove('S_2_count')\n",
    "\n",
    "\n",
    "# 将 'target_last' 替换为 'target'\n",
    "if 'target_last' in new_feature_names:\n",
    "    index = new_feature_names.index('target_last')\n",
    "    new_feature_names[index] = 'target'\n",
    "    \n",
    "#print(new_feature_names)\n",
    "\n",
    "#print(\"***********\")\n",
    "test_data,useless,customer_ids = optimized_preprocessing(test_data, 1)\n",
    "\n",
    "#print(\"This is in [6]，train_data after preprocessing is: \" + ', '.join(train_data.columns))"
   ]
  },
  {
   "cell_type": "code",
   "execution_count": 7,
   "id": "ec5c4147-2a8a-4586-b556-f520cde8cdcc",
   "metadata": {
    "execution": {
     "iopub.execute_input": "2023-12-24T08:37:13.941137Z",
     "iopub.status.busy": "2023-12-24T08:37:13.940927Z",
     "iopub.status.idle": "2023-12-24T12:54:54.762411Z",
     "shell.execute_reply": "2023-12-24T12:54:54.760662Z",
     "shell.execute_reply.started": "2023-12-24T08:37:13.941117Z"
    },
    "tags": []
   },
   "outputs": [
    {
     "name": "stderr",
     "output_type": "stream",
     "text": [
      "[I 2023-12-24 08:37:13,944] A new study created in memory with name: no-name-dc4e7bf0-085d-4f7a-bb68-98cbc66133a8\n"
     ]
    },
    {
     "name": "stdout",
     "output_type": "stream",
     "text": [
      "study begin\n",
      "Index(['index', 'S_2_count', 'B_30_0.0_last', 'B_30_0.0_nunique',\n",
      "       'B_30_100.0_last', 'B_30_100.0_nunique', 'B_30_200.0_last',\n",
      "       'B_30_200.0_nunique', 'B_38_100.0_last', 'B_38_100.0_nunique',\n",
      "       ...\n",
      "       'D_143_max', 'D_144_mean', 'D_144_std', 'D_144_min', 'D_144_max',\n",
      "       'D_145_mean', 'D_145_std', 'D_145_min', 'D_145_max', 'target'],\n",
      "      dtype='object', length=803)\n"
     ]
    },
    {
     "name": "stderr",
     "output_type": "stream",
     "text": [
      "[I 2023-12-24 08:39:54,976] Trial 0 finished with value: 0.8940474525332694 and parameters: {'lambda_l1': 1.9284109036662538e-08, 'lambda_l2': 1.11009704312992e-08, 'num_leaves': 143, 'feature_fraction': 0.4845486440170327, 'bagging_fraction': 0.4862015813301669, 'bagging_freq': 6, 'min_child_samples': 14, 'learning_rate': 0.24482838336293292, 'max_depth': 7, 'min_data_in_leaf': 189, 'colsample_bytree': 0.8068620812441352}. Best is trial 0 with value: 0.8940474525332694.\n",
      "[I 2023-12-24 08:41:51,108] Trial 1 finished with value: 0.8956664960981312 and parameters: {'lambda_l1': 0.00021073209456348493, 'lambda_l2': 0.012069795699759293, 'num_leaves': 226, 'feature_fraction': 0.5187142575449699, 'bagging_fraction': 0.6672251993530568, 'bagging_freq': 7, 'min_child_samples': 45, 'learning_rate': 0.15702204826078422, 'max_depth': 5, 'min_data_in_leaf': 121, 'colsample_bytree': 0.41897423095007075}. Best is trial 1 with value: 0.8956664960981312.\n",
      "[I 2023-12-24 08:44:34,515] Trial 2 finished with value: 0.8953766798723148 and parameters: {'lambda_l1': 3.3911787015316755e-05, 'lambda_l2': 5.284789302758195e-07, 'num_leaves': 230, 'feature_fraction': 0.6224204885112141, 'bagging_fraction': 0.6919300763317728, 'bagging_freq': 2, 'min_child_samples': 87, 'learning_rate': 0.19894203003398922, 'max_depth': 7, 'min_data_in_leaf': 75, 'colsample_bytree': 0.6801102222106071}. Best is trial 1 with value: 0.8956664960981312.\n",
      "[I 2023-12-24 08:46:40,290] Trial 3 finished with value: 0.8955967667182678 and parameters: {'lambda_l1': 0.0005733698696714795, 'lambda_l2': 9.087304628441938, 'num_leaves': 166, 'feature_fraction': 0.49521649317486965, 'bagging_fraction': 0.5799461177442814, 'bagging_freq': 2, 'min_child_samples': 84, 'learning_rate': 0.23578291853067077, 'max_depth': 7, 'min_data_in_leaf': 119, 'colsample_bytree': 0.7036336902223942}. Best is trial 1 with value: 0.8956664960981312.\n",
      "[I 2023-12-24 08:48:17,744] Trial 4 finished with value: 0.8956730336125528 and parameters: {'lambda_l1': 4.647763842754167e-06, 'lambda_l2': 0.022880276677597663, 'num_leaves': 178, 'feature_fraction': 0.8683064454494063, 'bagging_fraction': 0.9296924976394428, 'bagging_freq': 1, 'min_child_samples': 52, 'learning_rate': 0.26909042752533896, 'max_depth': 6, 'min_data_in_leaf': 160, 'colsample_bytree': 0.46785681542116836}. Best is trial 4 with value: 0.8956730336125528.\n",
      "[I 2023-12-24 08:55:44,130] Trial 5 finished with value: 0.8963943032593964 and parameters: {'lambda_l1': 9.04447675373452, 'lambda_l2': 5.561824041315712e-05, 'num_leaves': 215, 'feature_fraction': 0.9978824256154899, 'bagging_fraction': 0.8569463238731755, 'bagging_freq': 3, 'min_child_samples': 77, 'learning_rate': 0.08602107738823649, 'max_depth': 9, 'min_data_in_leaf': 193, 'colsample_bytree': 0.8914160910633504}. Best is trial 5 with value: 0.8963943032593964.\n",
      "[I 2023-12-24 08:56:52,364] Trial 6 finished with value: 0.8945638883473961 and parameters: {'lambda_l1': 4.539087508210819e-05, 'lambda_l2': 0.0018115287495364747, 'num_leaves': 26, 'feature_fraction': 0.8159398357991449, 'bagging_fraction': 0.9205562630318838, 'bagging_freq': 5, 'min_child_samples': 26, 'learning_rate': 0.1415737232840513, 'max_depth': 4, 'min_data_in_leaf': 136, 'colsample_bytree': 0.8025497219033868}. Best is trial 5 with value: 0.8963943032593964.\n",
      "[I 2023-12-24 08:59:57,571] Trial 7 finished with value: 0.8958037766123071 and parameters: {'lambda_l1': 0.0021432275160643117, 'lambda_l2': 0.053189925729862704, 'num_leaves': 175, 'feature_fraction': 0.41958891597250614, 'bagging_fraction': 0.7879925502178309, 'bagging_freq': 1, 'min_child_samples': 93, 'learning_rate': 0.1650928339731831, 'max_depth': 8, 'min_data_in_leaf': 95, 'colsample_bytree': 0.7364289416922118}. Best is trial 5 with value: 0.8963943032593964.\n",
      "[I 2023-12-24 09:01:28,448] Trial 8 finished with value: 0.895184920807283 and parameters: {'lambda_l1': 0.29480343460992936, 'lambda_l2': 2.8629843860729647, 'num_leaves': 159, 'feature_fraction': 0.8371223411050565, 'bagging_fraction': 0.7858565419499319, 'bagging_freq': 2, 'min_child_samples': 92, 'learning_rate': 0.2275774003284475, 'max_depth': 4, 'min_data_in_leaf': 79, 'colsample_bytree': 0.6392349221557818}. Best is trial 5 with value: 0.8963943032593964.\n",
      "[I 2023-12-24 09:02:29,163] Trial 9 finished with value: 0.8821388727108193 and parameters: {'lambda_l1': 4.212229399187637e-06, 'lambda_l2': 0.0036063401599218713, 'num_leaves': 246, 'feature_fraction': 0.5512020335477997, 'bagging_fraction': 0.6725643848076165, 'bagging_freq': 2, 'min_child_samples': 46, 'learning_rate': 0.03913667463777589, 'max_depth': 3, 'min_data_in_leaf': 124, 'colsample_bytree': 0.9987909161599284}. Best is trial 5 with value: 0.8963943032593964.\n",
      "[I 2023-12-24 09:06:14,433] Trial 10 finished with value: 0.8945638878963054 and parameters: {'lambda_l1': 7.625560729260635, 'lambda_l2': 1.6794340530287896e-05, 'num_leaves': 56, 'feature_fraction': 0.9983043343016451, 'bagging_fraction': 0.8449213604722027, 'bagging_freq': 4, 'min_child_samples': 71, 'learning_rate': 0.059488578621292906, 'max_depth': 10, 'min_data_in_leaf': 21, 'colsample_bytree': 0.9858594084033496}. Best is trial 5 with value: 0.8963943032593964.\n",
      "[I 2023-12-24 09:09:04,266] Trial 11 finished with value: 0.8967516674381493 and parameters: {'lambda_l1': 0.054017137748817536, 'lambda_l2': 3.813791761883605e-05, 'num_leaves': 95, 'feature_fraction': 0.410387303242254, 'bagging_fraction': 0.9939590548220198, 'bagging_freq': 4, 'min_child_samples': 71, 'learning_rate': 0.09753529135514565, 'max_depth': 9, 'min_data_in_leaf': 70, 'colsample_bytree': 0.8661796245642345}. Best is trial 11 with value: 0.8967516674381493.\n",
      "[I 2023-12-24 09:11:52,187] Trial 12 finished with value: 0.8964444210219182 and parameters: {'lambda_l1': 0.08966803720344581, 'lambda_l2': 3.8466891104310716e-05, 'num_leaves': 84, 'feature_fraction': 0.7161662969421728, 'bagging_fraction': 0.99314950619475, 'bagging_freq': 4, 'min_child_samples': 69, 'learning_rate': 0.09232151479827756, 'max_depth': 10, 'min_data_in_leaf': 41, 'colsample_bytree': 0.881504759409755}. Best is trial 11 with value: 0.8967516674381493.\n",
      "[I 2023-12-24 09:15:16,893] Trial 13 finished with value: 0.8969063820838474 and parameters: {'lambda_l1': 0.04696580707807493, 'lambda_l2': 4.645441622608077e-06, 'num_leaves': 93, 'feature_fraction': 0.6917715384060656, 'bagging_fraction': 0.9952767183652694, 'bagging_freq': 4, 'min_child_samples': 65, 'learning_rate': 0.10584181787649502, 'max_depth': 10, 'min_data_in_leaf': 37, 'colsample_bytree': 0.8670224136814599}. Best is trial 13 with value: 0.8969063820838474.\n",
      "[I 2023-12-24 09:19:21,842] Trial 14 finished with value: 0.8965315839635053 and parameters: {'lambda_l1': 0.01903126310994961, 'lambda_l2': 1.011144458132504e-06, 'num_leaves': 98, 'feature_fraction': 0.7039401304790694, 'bagging_fraction': 0.9878270620062116, 'bagging_freq': 5, 'min_child_samples': 65, 'learning_rate': 0.11809447757746157, 'max_depth': 9, 'min_data_in_leaf': 57, 'colsample_bytree': 0.904288012402089}. Best is trial 13 with value: 0.8969063820838474.\n",
      "[I 2023-12-24 09:20:56,124] Trial 15 finished with value: 0.8741744023496876 and parameters: {'lambda_l1': 0.41096908670427007, 'lambda_l2': 7.908541947273084e-07, 'num_leaves': 10, 'feature_fraction': 0.6194506738317346, 'bagging_fraction': 0.4154176784142704, 'bagging_freq': 5, 'min_child_samples': 60, 'learning_rate': 0.015806676677783377, 'max_depth': 9, 'min_data_in_leaf': 20, 'colsample_bytree': 0.6190095353570473}. Best is trial 13 with value: 0.8969063820838474.\n",
      "[I 2023-12-24 09:22:45,802] Trial 16 finished with value: 0.8969521406962068 and parameters: {'lambda_l1': 0.008852968914975619, 'lambda_l2': 1.4804175993544715e-08, 'num_leaves': 96, 'feature_fraction': 0.4004157644122282, 'bagging_fraction': 0.9018621898913519, 'bagging_freq': 3, 'min_child_samples': 34, 'learning_rate': 0.10334484133390372, 'max_depth': 10, 'min_data_in_leaf': 52, 'colsample_bytree': 0.8120310018494764}. Best is trial 16 with value: 0.8969521406962068.\n",
      "[I 2023-12-24 09:25:40,632] Trial 17 finished with value: 0.8958800446461896 and parameters: {'lambda_l1': 0.004106159159830012, 'lambda_l2': 2.3229288101642317e-08, 'num_leaves': 121, 'feature_fraction': 0.6374900859947469, 'bagging_fraction': 0.8968190687810458, 'bagging_freq': 3, 'min_child_samples': 31, 'learning_rate': 0.1896373517272588, 'max_depth': 10, 'min_data_in_leaf': 44, 'colsample_bytree': 0.572198233781006}. Best is trial 16 with value: 0.8969521406962068.\n",
      "[I 2023-12-24 09:27:20,801] Trial 18 finished with value: 0.8938491561200074 and parameters: {'lambda_l1': 0.7913259652024422, 'lambda_l2': 1.1417145700097453e-07, 'num_leaves': 53, 'feature_fraction': 0.7763796795836303, 'bagging_fraction': 0.7655126231165714, 'bagging_freq': 3, 'min_child_samples': 37, 'learning_rate': 0.058355213714424134, 'max_depth': 8, 'min_data_in_leaf': 90, 'colsample_bytree': 0.7701441635510937}. Best is trial 16 with value: 0.8969521406962068.\n",
      "[I 2023-12-24 09:29:38,985] Trial 19 finished with value: 0.8963790491065626 and parameters: {'lambda_l1': 0.008254931709177566, 'lambda_l2': 1.141654924078745e-07, 'num_leaves': 67, 'feature_fraction': 0.937229624017556, 'bagging_fraction': 0.8419469822349083, 'bagging_freq': 6, 'min_child_samples': 8, 'learning_rate': 0.12268714468474852, 'max_depth': 8, 'min_data_in_leaf': 43, 'colsample_bytree': 0.9495413253858647}. Best is trial 16 with value: 0.8969521406962068.\n",
      "[I 2023-12-24 09:33:27,291] Trial 20 finished with value: 0.8958647887602182 and parameters: {'lambda_l1': 6.80121415303357e-07, 'lambda_l2': 5.8390825785446725e-06, 'num_leaves': 124, 'feature_fraction': 0.5885458380838255, 'bagging_fraction': 0.9369871258771919, 'bagging_freq': 4, 'min_child_samples': 20, 'learning_rate': 0.0667107176031296, 'max_depth': 10, 'min_data_in_leaf': 56, 'colsample_bytree': 0.827757263048985}. Best is trial 16 with value: 0.8969521406962068.\n",
      "[I 2023-12-24 09:35:40,499] Trial 21 finished with value: 0.8966928337257218 and parameters: {'lambda_l1': 0.03825381323092841, 'lambda_l2': 0.0005440968914049686, 'num_leaves': 100, 'feature_fraction': 0.4097042675854544, 'bagging_fraction': 0.9930887291181802, 'bagging_freq': 4, 'min_child_samples': 58, 'learning_rate': 0.10850541625697627, 'max_depth': 9, 'min_data_in_leaf': 66, 'colsample_bytree': 0.8441646478123742}. Best is trial 16 with value: 0.8969521406962068.\n",
      "[I 2023-12-24 09:37:43,087] Trial 22 finished with value: 0.8966296410055821 and parameters: {'lambda_l1': 0.05496937494985573, 'lambda_l2': 0.00020922419434527437, 'num_leaves': 83, 'feature_fraction': 0.44606368779561634, 'bagging_fraction': 0.9519831369923144, 'bagging_freq': 3, 'min_child_samples': 80, 'learning_rate': 0.09253723963826439, 'max_depth': 10, 'min_data_in_leaf': 97, 'colsample_bytree': 0.9237423567416467}. Best is trial 16 with value: 0.8969521406962068.\n",
      "[I 2023-12-24 09:40:02,442] Trial 23 finished with value: 0.8966165692055984 and parameters: {'lambda_l1': 0.0013780138292945174, 'lambda_l2': 2.7578051188973626e-06, 'num_leaves': 108, 'feature_fraction': 0.47264862249319656, 'bagging_fraction': 0.8698082990961857, 'bagging_freq': 4, 'min_child_samples': 39, 'learning_rate': 0.13291392850881045, 'max_depth': 9, 'min_data_in_leaf': 35, 'colsample_bytree': 0.8536249570018}. Best is trial 16 with value: 0.8969521406962068.\n",
      "[I 2023-12-24 09:41:40,492] Trial 24 finished with value: 0.8963899443703915 and parameters: {'lambda_l1': 0.7565810968814876, 'lambda_l2': 1.8622443876524245e-07, 'num_leaves': 47, 'feature_fraction': 0.40582032049596645, 'bagging_fraction': 0.9502607615818396, 'bagging_freq': 5, 'min_child_samples': 100, 'learning_rate': 0.17807988522875828, 'max_depth': 8, 'min_data_in_leaf': 59, 'colsample_bytree': 0.7728647912162684}. Best is trial 16 with value: 0.8969521406962068.\n",
      "[I 2023-12-24 09:45:18,053] Trial 25 finished with value: 0.8937837842996185 and parameters: {'lambda_l1': 0.01033816422495221, 'lambda_l2': 0.00018527950061427697, 'num_leaves': 143, 'feature_fraction': 0.5511820049798457, 'bagging_fraction': 0.9021008426029009, 'bagging_freq': 3, 'min_child_samples': 55, 'learning_rate': 0.036411324918299154, 'max_depth': 10, 'min_data_in_leaf': 82, 'colsample_bytree': 0.7536555318815915}. Best is trial 16 with value: 0.8969521406962068.\n",
      "[I 2023-12-24 09:47:54,330] Trial 26 finished with value: 0.8960718008147444 and parameters: {'lambda_l1': 0.11099132668539306, 'lambda_l2': 6.142861214772998e-06, 'num_leaves': 79, 'feature_fraction': 0.6735794162931493, 'bagging_fraction': 0.8083656429848124, 'bagging_freq': 6, 'min_child_samples': 73, 'learning_rate': 0.07550428295332803, 'max_depth': 9, 'min_data_in_leaf': 30, 'colsample_bytree': 0.9568401304364565}. Best is trial 16 with value: 0.8969521406962068.\n",
      "[I 2023-12-24 09:50:39,827] Trial 27 finished with value: 0.8961480673291635 and parameters: {'lambda_l1': 2.196947605213491, 'lambda_l2': 0.20669691078985403, 'num_leaves': 40, 'feature_fraction': 0.7650099420550238, 'bagging_fraction': 0.9976880193387689, 'bagging_freq': 4, 'min_child_samples': 65, 'learning_rate': 0.1033808129260493, 'max_depth': 10, 'min_data_in_leaf': 64, 'colsample_bytree': 0.8574819811375913}. Best is trial 16 with value: 0.8969521406962068.\n",
      "[I 2023-12-24 09:53:08,186] Trial 28 finished with value: 0.8959802810734147 and parameters: {'lambda_l1': 0.00016818838747705264, 'lambda_l2': 3.557061169604743e-08, 'num_leaves': 196, 'feature_fraction': 0.454039899711519, 'bagging_fraction': 0.7419480809436498, 'bagging_freq': 3, 'min_child_samples': 48, 'learning_rate': 0.14333027764313594, 'max_depth': 8, 'min_data_in_leaf': 49, 'colsample_bytree': 0.9248356261970785}. Best is trial 16 with value: 0.8969521406962068.\n",
      "[I 2023-12-24 09:54:44,541] Trial 29 finished with value: 0.8905478752729958 and parameters: {'lambda_l1': 1.1483935695898005e-07, 'lambda_l2': 1.1908621594769348e-08, 'num_leaves': 141, 'feature_fraction': 0.5284615118318691, 'bagging_fraction': 0.597810836157386, 'bagging_freq': 5, 'min_child_samples': 19, 'learning_rate': 0.04162428651275259, 'max_depth': 6, 'min_data_in_leaf': 172, 'colsample_bytree': 0.819531381350519}. Best is trial 16 with value: 0.8969521406962068.\n",
      "[I 2023-12-24 09:59:33,165] Trial 30 finished with value: 0.8932956743433424 and parameters: {'lambda_l1': 0.001252255572485356, 'lambda_l2': 2.693946087042517e-05, 'num_leaves': 108, 'feature_fraction': 0.49109477353112035, 'bagging_fraction': 0.89308592444514, 'bagging_freq': 7, 'min_child_samples': 38, 'learning_rate': 0.29296929862750243, 'max_depth': 9, 'min_data_in_leaf': 105, 'colsample_bytree': 0.7985741263461906}. Best is trial 16 with value: 0.8969521406962068.\n",
      "[I 2023-12-24 10:03:44,719] Trial 31 finished with value: 0.8966448925230965 and parameters: {'lambda_l1': 0.04824521952463254, 'lambda_l2': 0.0009985619534648167, 'num_leaves': 99, 'feature_fraction': 0.40923941244482437, 'bagging_fraction': 0.9649671696120937, 'bagging_freq': 4, 'min_child_samples': 58, 'learning_rate': 0.10543083060499737, 'max_depth': 9, 'min_data_in_leaf': 69, 'colsample_bytree': 0.8454396379134508}. Best is trial 16 with value: 0.8969521406962068.\n",
      "[I 2023-12-24 10:06:23,344] Trial 32 finished with value: 0.8970305891123853 and parameters: {'lambda_l1': 0.014043709780620972, 'lambda_l2': 0.0003768290064891696, 'num_leaves': 72, 'feature_fraction': 0.45878415030258224, 'bagging_fraction': 0.9970701110253425, 'bagging_freq': 4, 'min_child_samples': 63, 'learning_rate': 0.1127180081857003, 'max_depth': 10, 'min_data_in_leaf': 70, 'colsample_bytree': 0.866066133289374}. Best is trial 32 with value: 0.8970305891123853.\n",
      "[I 2023-12-24 10:08:21,310] Trial 33 finished with value: 0.8965032564437415 and parameters: {'lambda_l1': 0.0081971808141472, 'lambda_l2': 0.00010042162419742182, 'num_leaves': 71, 'feature_fraction': 0.4987558351995651, 'bagging_fraction': 0.9697046781382243, 'bagging_freq': 3, 'min_child_samples': 65, 'learning_rate': 0.15805195841121938, 'max_depth': 10, 'min_data_in_leaf': 30, 'colsample_bytree': 0.7191341190978652}. Best is trial 32 with value: 0.8970305891123853.\n",
      "[I 2023-12-24 10:24:34,663] Trial 34 finished with value: 0.8960543677753364 and parameters: {'lambda_l1': 0.00024557718849380213, 'lambda_l2': 0.004425949681378488, 'num_leaves': 32, 'feature_fraction': 0.4503015708470989, 'bagging_fraction': 0.9253051354220239, 'bagging_freq': 4, 'min_child_samples': 77, 'learning_rate': 0.12297878405246238, 'max_depth': 10, 'min_data_in_leaf': 79, 'colsample_bytree': 0.8828636838319411}. Best is trial 32 with value: 0.8970305891123853.\n",
      "[I 2023-12-24 10:27:39,327] Trial 35 finished with value: 0.8954529466953748 and parameters: {'lambda_l1': 0.1937486464603583, 'lambda_l2': 1.0445785648440462e-05, 'num_leaves': 120, 'feature_fraction': 0.5872416094779637, 'bagging_fraction': 0.5779722645047757, 'bagging_freq': 2, 'min_child_samples': 50, 'learning_rate': 0.0770352898271857, 'max_depth': 7, 'min_data_in_leaf': 51, 'colsample_bytree': 0.9522402080191191}. Best is trial 32 with value: 0.8970305891123853.\n",
      "[I 2023-12-24 10:29:32,011] Trial 36 finished with value: 0.8960020702715419 and parameters: {'lambda_l1': 0.015651147665193283, 'lambda_l2': 1.962478315846856e-06, 'num_leaves': 61, 'feature_fraction': 0.523189135112463, 'bagging_fraction': 0.9554038253134536, 'bagging_freq': 5, 'min_child_samples': 86, 'learning_rate': 0.20951735276545988, 'max_depth': 10, 'min_data_in_leaf': 71, 'colsample_bytree': 0.686462161442579}. Best is trial 32 with value: 0.8970305891123853.\n",
      "[I 2023-12-24 10:31:35,677] Trial 37 finished with value: 0.8965991345280189 and parameters: {'lambda_l1': 1.0465812083056516e-08, 'lambda_l2': 2.789368026081922e-07, 'num_leaves': 88, 'feature_fraction': 0.44191188595434894, 'bagging_fraction': 0.8898810673652577, 'bagging_freq': 6, 'min_child_samples': 62, 'learning_rate': 0.14561563815974682, 'max_depth': 9, 'min_data_in_leaf': 105, 'colsample_bytree': 0.7885026193768464}. Best is trial 32 with value: 0.8970305891123853.\n",
      "[I 2023-12-24 10:32:56,525] Trial 38 finished with value: 0.8935331920919584 and parameters: {'lambda_l1': 2.291006847257293, 'lambda_l2': 0.0003215893602591102, 'num_leaves': 14, 'feature_fraction': 0.4758555744803099, 'bagging_fraction': 0.9207905807580679, 'bagging_freq': 2, 'min_child_samples': 53, 'learning_rate': 0.09541247590950014, 'max_depth': 7, 'min_data_in_leaf': 87, 'colsample_bytree': 0.49305570087812745}. Best is trial 32 with value: 0.8970305891123853.\n",
      "[I 2023-12-24 10:34:39,346] Trial 39 finished with value: 0.8958473593770186 and parameters: {'lambda_l1': 5.087152119647932e-05, 'lambda_l2': 0.01256910619330616, 'num_leaves': 134, 'feature_fraction': 0.9017372894628481, 'bagging_fraction': 0.819781760453682, 'bagging_freq': 4, 'min_child_samples': 43, 'learning_rate': 0.1672069587589193, 'max_depth': 6, 'min_data_in_leaf': 143, 'colsample_bytree': 0.87364762533138}. Best is trial 32 with value: 0.8970305891123853.\n",
      "[I 2023-12-24 10:37:20,889] Trial 40 finished with value: 0.8956730328528211 and parameters: {'lambda_l1': 0.0006752246392048054, 'lambda_l2': 0.0835789949377307, 'num_leaves': 155, 'feature_fraction': 0.5647146351173635, 'bagging_fraction': 0.7351609415591445, 'bagging_freq': 1, 'min_child_samples': 79, 'learning_rate': 0.07830528276295956, 'max_depth': 8, 'min_data_in_leaf': 33, 'colsample_bytree': 0.8198530523297098}. Best is trial 32 with value: 0.8970305891123853.\n",
      "[I 2023-12-24 10:39:19,417] Trial 41 finished with value: 0.8967102664802308 and parameters: {'lambda_l1': 0.02930976593957796, 'lambda_l2': 0.0007417112357767084, 'num_leaves': 97, 'feature_fraction': 0.4019401196408781, 'bagging_fraction': 0.9932301603609811, 'bagging_freq': 4, 'min_child_samples': 57, 'learning_rate': 0.11640381582751508, 'max_depth': 9, 'min_data_in_leaf': 67, 'colsample_bytree': 0.9157311988108344}. Best is trial 32 with value: 0.8970305891123853.\n",
      "[I 2023-12-24 10:40:51,707] Trial 42 finished with value: 0.8967015496518858 and parameters: {'lambda_l1': 0.0024949737822423075, 'lambda_l2': 6.320176301616113e-05, 'num_leaves': 73, 'feature_fraction': 0.4348276257262102, 'bagging_fraction': 0.9684844055474944, 'bagging_freq': 3, 'min_child_samples': 69, 'learning_rate': 0.1322350158018852, 'max_depth': 9, 'min_data_in_leaf': 76, 'colsample_bytree': 0.9219239069525523}. Best is trial 32 with value: 0.8970305891123853.\n",
      "[I 2023-12-24 10:42:25,783] Trial 43 finished with value: 0.8969434253161002 and parameters: {'lambda_l1': 0.023524990774143644, 'lambda_l2': 0.0020145791979080743, 'num_leaves': 110, 'feature_fraction': 0.40270366602711805, 'bagging_fraction': 0.9972774147936487, 'bagging_freq': 4, 'min_child_samples': 73, 'learning_rate': 0.1131050840675916, 'max_depth': 10, 'min_data_in_leaf': 51, 'colsample_bytree': 0.894028976287544}. Best is trial 32 with value: 0.8970305891123853.\n",
      "[I 2023-12-24 10:44:17,146] Trial 44 finished with value: 0.8969194562342506 and parameters: {'lambda_l1': 0.0048988354000527095, 'lambda_l2': 0.0029975917458255562, 'num_leaves': 113, 'feature_fraction': 0.4745221473461558, 'bagging_fraction': 0.9345848622047982, 'bagging_freq': 5, 'min_child_samples': 73, 'learning_rate': 0.1062137641474679, 'max_depth': 10, 'min_data_in_leaf': 51, 'colsample_bytree': 0.8796339778735189}. Best is trial 32 with value: 0.8970305891123853.\n",
      "[I 2023-12-24 10:46:03,678] Trial 45 finished with value: 0.8966906553139797 and parameters: {'lambda_l1': 0.004573755494949198, 'lambda_l2': 0.0053932298784698605, 'num_leaves': 113, 'feature_fraction': 0.4729510526065672, 'bagging_fraction': 0.8694366319688495, 'bagging_freq': 5, 'min_child_samples': 83, 'learning_rate': 0.1291098153802343, 'max_depth': 10, 'min_data_in_leaf': 52, 'colsample_bytree': 0.8868190666384667}. Best is trial 32 with value: 0.8970305891123853.\n",
      "[I 2023-12-24 10:47:20,823] Trial 46 finished with value: 0.895723149998061 and parameters: {'lambda_l1': 0.0005743483742062076, 'lambda_l2': 0.012576538660863053, 'num_leaves': 129, 'feature_fraction': 0.49816702132614726, 'bagging_fraction': 0.9316975193597723, 'bagging_freq': 5, 'min_child_samples': 91, 'learning_rate': 0.1493573150330511, 'max_depth': 5, 'min_data_in_leaf': 39, 'colsample_bytree': 0.9765825847681371}. Best is trial 32 with value: 0.8970305891123853.\n",
      "[I 2023-12-24 10:49:50,182] Trial 47 finished with value: 0.8966427162718412 and parameters: {'lambda_l1': 0.1853216238351112, 'lambda_l2': 0.0025748609629284228, 'num_leaves': 115, 'feature_fraction': 0.5141945787744172, 'bagging_fraction': 0.6114235580900022, 'bagging_freq': 5, 'min_child_samples': 74, 'learning_rate': 0.11164165075464937, 'max_depth': 10, 'min_data_in_leaf': 47, 'colsample_bytree': 0.6548123411890219}. Best is trial 32 with value: 0.8970305891123853.\n",
      "[I 2023-12-24 10:50:46,080] Trial 48 finished with value: 0.8888830702942643 and parameters: {'lambda_l1': 8.28000336657476e-05, 'lambda_l2': 0.5201672228602164, 'num_leaves': 158, 'feature_fraction': 0.675692021642641, 'bagging_fraction': 0.9080693182683233, 'bagging_freq': 3, 'min_child_samples': 63, 'learning_rate': 0.08448017384916157, 'max_depth': 3, 'min_data_in_leaf': 25, 'colsample_bytree': 0.7424538927346944}. Best is trial 32 with value: 0.8970305891123853.\n",
      "[I 2023-12-24 10:52:46,819] Trial 49 finished with value: 0.8953832168881624 and parameters: {'lambda_l1': 0.018752694036230942, 'lambda_l2': 0.0011352717183057478, 'num_leaves': 88, 'feature_fraction': 0.4295442134736784, 'bagging_fraction': 0.9683993444792589, 'bagging_freq': 5, 'min_child_samples': 75, 'learning_rate': 0.05948936667736695, 'max_depth': 10, 'min_data_in_leaf': 60, 'colsample_bytree': 0.8988250351699323}. Best is trial 32 with value: 0.8970305891123853.\n",
      "[I 2023-12-24 10:54:37,988] Trial 50 finished with value: 0.895914907021314 and parameters: {'lambda_l1': 0.004061056178996013, 'lambda_l2': 0.03197586682198349, 'num_leaves': 189, 'feature_fraction': 0.7921803239657431, 'bagging_fraction': 0.5283417574314708, 'bagging_freq': 7, 'min_child_samples': 67, 'learning_rate': 0.13485270721893408, 'max_depth': 10, 'min_data_in_leaf': 199, 'colsample_bytree': 0.8328322776052788}. Best is trial 32 with value: 0.8970305891123853.\n",
      "[I 2023-12-24 10:57:57,434] Trial 51 finished with value: 0.8965555543748851 and parameters: {'lambda_l1': 0.08759027156829834, 'lambda_l2': 9.680484563335618e-05, 'num_leaves': 94, 'feature_fraction': 0.7320629059130813, 'bagging_fraction': 0.9737373948285746, 'bagging_freq': 4, 'min_child_samples': 70, 'learning_rate': 0.09940198113086572, 'max_depth': 10, 'min_data_in_leaf': 41, 'colsample_bytree': 0.869649148144562}. Best is trial 32 with value: 0.8970305891123853.\n",
      "[I 2023-12-24 10:59:42,200] Trial 52 finished with value: 0.8962069030121447 and parameters: {'lambda_l1': 0.4863202978872977, 'lambda_l2': 0.0003558653982228434, 'num_leaves': 64, 'feature_fraction': 0.46224492011323753, 'bagging_fraction': 0.9472635412760819, 'bagging_freq': 4, 'min_child_samples': 81, 'learning_rate': 0.09319774765338894, 'max_depth': 9, 'min_data_in_leaf': 57, 'colsample_bytree': 0.8106356690749732}. Best is trial 32 with value: 0.8970305891123853.\n",
      "[I 2023-12-24 11:02:10,728] Trial 53 finished with value: 0.8970741709986572 and parameters: {'lambda_l1': 1.0732232097210632e-05, 'lambda_l2': 0.00225521312496394, 'num_leaves': 107, 'feature_fraction': 0.42674168986629585, 'bagging_fraction': 0.9933735915171694, 'bagging_freq': 3, 'min_child_samples': 29, 'learning_rate': 0.11569255553287275, 'max_depth': 10, 'min_data_in_leaf': 120, 'colsample_bytree': 0.9411034450701119}. Best is trial 53 with value: 0.8970741709986572.\n",
      "[I 2023-12-24 11:04:03,488] Trial 54 finished with value: 0.8969695765133837 and parameters: {'lambda_l1': 1.6064224236568367e-05, 'lambda_l2': 0.006845263373232601, 'num_leaves': 133, 'feature_fraction': 0.4297929750837056, 'bagging_fraction': 0.9333786603395361, 'bagging_freq': 3, 'min_child_samples': 31, 'learning_rate': 0.11498602054399579, 'max_depth': 10, 'min_data_in_leaf': 124, 'colsample_bytree': 0.9372948409939932}. Best is trial 53 with value: 0.8970741709986572.\n",
      "[I 2023-12-24 11:06:26,464] Trial 55 finished with value: 0.8970719894530218 and parameters: {'lambda_l1': 2.135093191706382e-07, 'lambda_l2': 0.007853154646782507, 'num_leaves': 143, 'feature_fraction': 0.42773303364575904, 'bagging_fraction': 0.9328059872699505, 'bagging_freq': 2, 'min_child_samples': 31, 'learning_rate': 0.11919184969703499, 'max_depth': 10, 'min_data_in_leaf': 126, 'colsample_bytree': 0.9407609915230163}. Best is trial 53 with value: 0.8970741709986572.\n",
      "[I 2023-12-24 11:07:33,827] Trial 56 finished with value: 0.8948951075729099 and parameters: {'lambda_l1': 1.6277379748413742e-05, 'lambda_l2': 0.006947772173650637, 'num_leaves': 136, 'feature_fraction': 0.4290500938914575, 'bagging_fraction': 0.8771518087112057, 'bagging_freq': 2, 'min_child_samples': 27, 'learning_rate': 0.15860189686742598, 'max_depth': 4, 'min_data_in_leaf': 130, 'colsample_bytree': 0.9801498785278887}. Best is trial 53 with value: 0.8970741709986572.\n",
      "[I 2023-12-24 11:09:53,088] Trial 57 finished with value: 0.8968475491311517 and parameters: {'lambda_l1': 1.0145849051358276e-06, 'lambda_l2': 0.07989198079158934, 'num_leaves': 177, 'feature_fraction': 0.42973353919109336, 'bagging_fraction': 0.9068355759485779, 'bagging_freq': 2, 'min_child_samples': 32, 'learning_rate': 0.120037460311779, 'max_depth': 10, 'min_data_in_leaf': 114, 'colsample_bytree': 0.9468053238031008}. Best is trial 53 with value: 0.8970741709986572.\n",
      "[I 2023-12-24 11:11:50,482] Trial 58 finished with value: 0.8957950598314455 and parameters: {'lambda_l1': 5.383500240089003e-06, 'lambda_l2': 0.0017562188160038074, 'num_leaves': 144, 'feature_fraction': 0.45180576122501076, 'bagging_fraction': 0.8214743349652175, 'bagging_freq': 1, 'min_child_samples': 18, 'learning_rate': 0.1756482759796728, 'max_depth': 9, 'min_data_in_leaf': 142, 'colsample_bytree': 0.9344143403746364}. Best is trial 53 with value: 0.8970741709986572.\n",
      "[I 2023-12-24 11:14:02,989] Trial 59 finished with value: 0.8964357060929024 and parameters: {'lambda_l1': 1.0750997860510182e-07, 'lambda_l2': 0.027881392898283525, 'num_leaves': 150, 'feature_fraction': 0.4009823417032017, 'bagging_fraction': 0.8545502123333513, 'bagging_freq': 3, 'min_child_samples': 33, 'learning_rate': 0.0835887105278378, 'max_depth': 10, 'min_data_in_leaf': 126, 'colsample_bytree': 0.9978691464638184}. Best is trial 53 with value: 0.8970741709986572.\n",
      "[I 2023-12-24 11:15:42,004] Trial 60 finished with value: 0.8957580153883704 and parameters: {'lambda_l1': 1.954536412008737e-06, 'lambda_l2': 0.7718512563238895, 'num_leaves': 129, 'feature_fraction': 0.42288504692277945, 'bagging_fraction': 0.4029076413316648, 'bagging_freq': 2, 'min_child_samples': 43, 'learning_rate': 0.06863522136415509, 'max_depth': 9, 'min_data_in_leaf': 118, 'colsample_bytree': 0.9699933126384611}. Best is trial 53 with value: 0.8970741709986572.\n",
      "[I 2023-12-24 11:17:15,772] Trial 61 finished with value: 0.8968802334743999 and parameters: {'lambda_l1': 1.4809001343494665e-05, 'lambda_l2': 0.0019088148982394184, 'num_leaves': 108, 'feature_fraction': 0.48488503156979423, 'bagging_fraction': 0.9399084452773874, 'bagging_freq': 3, 'min_child_samples': 25, 'learning_rate': 0.11739027723355332, 'max_depth': 10, 'min_data_in_leaf': 140, 'colsample_bytree': 0.8980436396445681}. Best is trial 53 with value: 0.8970741709986572.\n",
      "[I 2023-12-24 11:18:55,547] Trial 62 finished with value: 0.8961458890361295 and parameters: {'lambda_l1': 9.754823295229851e-08, 'lambda_l2': 0.009425326978393916, 'num_leaves': 169, 'feature_fraction': 0.45841180292858397, 'bagging_fraction': 0.91830822186225, 'bagging_freq': 2, 'min_child_samples': 25, 'learning_rate': 0.13624491943753392, 'max_depth': 10, 'min_data_in_leaf': 129, 'colsample_bytree': 0.9077050777944492}. Best is trial 53 with value: 0.8970741709986572.\n",
      "[I 2023-12-24 11:20:53,196] Trial 63 finished with value: 0.8970872432497312 and parameters: {'lambda_l1': 2.378433838675108e-07, 'lambda_l2': 0.0031250130758974136, 'num_leaves': 78, 'feature_fraction': 0.513228578964962, 'bagging_fraction': 0.9784571391051803, 'bagging_freq': 3, 'min_child_samples': 10, 'learning_rate': 0.10954584938121661, 'max_depth': 10, 'min_data_in_leaf': 153, 'colsample_bytree': 0.9374830362240586}. Best is trial 63 with value: 0.8970872432497312.\n",
      "[I 2023-12-24 11:23:04,210] Trial 64 finished with value: 0.8967233400133521 and parameters: {'lambda_l1': 2.2152597101436565e-07, 'lambda_l2': 0.021519009571978602, 'num_leaves': 76, 'feature_fraction': 0.5062193901785031, 'bagging_fraction': 0.9793889770757895, 'bagging_freq': 3, 'min_child_samples': 5, 'learning_rate': 0.12574549277972458, 'max_depth': 10, 'min_data_in_leaf': 152, 'colsample_bytree': 0.9405995343750589}. Best is trial 63 with value: 0.8970872432497312.\n",
      "[I 2023-12-24 11:25:33,824] Trial 65 finished with value: 0.8966448935439859 and parameters: {'lambda_l1': 4.3063741759303614e-07, 'lambda_l2': 0.0006007947249135217, 'num_leaves': 50, 'feature_fraction': 0.5499861336584073, 'bagging_fraction': 0.9983854822117907, 'bagging_freq': 3, 'min_child_samples': 11, 'learning_rate': 0.11209580383786147, 'max_depth': 10, 'min_data_in_leaf': 171, 'colsample_bytree': 0.9651818107835849}. Best is trial 63 with value: 0.8970872432497312.\n",
      "[I 2023-12-24 11:26:59,680] Trial 66 finished with value: 0.8968322922242912 and parameters: {'lambda_l1': 3.75530745280076e-08, 'lambda_l2': 0.0013338127068553566, 'num_leaves': 80, 'feature_fraction': 0.4242398755171517, 'bagging_fraction': 0.9545193395017781, 'bagging_freq': 2, 'min_child_samples': 29, 'learning_rate': 0.14026529389442643, 'max_depth': 9, 'min_data_in_leaf': 163, 'colsample_bytree': 0.9968106196329769}. Best is trial 63 with value: 0.8970872432497312.\n",
      "[I 2023-12-24 11:29:29,063] Trial 67 finished with value: 0.8968649787517677 and parameters: {'lambda_l1': 4.179411171414193e-08, 'lambda_l2': 0.005121389808275149, 'num_leaves': 122, 'feature_fraction': 0.4439230858533542, 'bagging_fraction': 0.9838779032039545, 'bagging_freq': 3, 'min_child_samples': 14, 'learning_rate': 0.08932098613534854, 'max_depth': 10, 'min_data_in_leaf': 134, 'colsample_bytree': 0.9329692726061249}. Best is trial 63 with value: 0.8970872432497312.\n",
      "[I 2023-12-24 11:31:31,461] Trial 68 finished with value: 0.8963986593468908 and parameters: {'lambda_l1': 3.5262275715788157e-06, 'lambda_l2': 0.047605121480308585, 'num_leaves': 92, 'feature_fraction': 0.5395266894970803, 'bagging_fraction': 0.44691552271657653, 'bagging_freq': 3, 'min_child_samples': 35, 'learning_rate': 0.10105193294992458, 'max_depth': 9, 'min_data_in_leaf': 153, 'colsample_bytree': 0.9044885530051878}. Best is trial 63 with value: 0.8970872432497312.\n",
      "[I 2023-12-24 11:33:34,493] Trial 69 finished with value: 0.8943067595512375 and parameters: {'lambda_l1': 1.0750673389053491e-05, 'lambda_l2': 0.00016857955237535805, 'num_leaves': 104, 'feature_fraction': 0.40133471829228673, 'bagging_fraction': 0.951883809133356, 'bagging_freq': 4, 'min_child_samples': 23, 'learning_rate': 0.04816093090843865, 'max_depth': 10, 'min_data_in_leaf': 107, 'colsample_bytree': 0.8476158757585942}. Best is trial 63 with value: 0.8970872432497312.\n",
      "[I 2023-12-24 11:34:49,282] Trial 70 finished with value: 0.8968039657491585 and parameters: {'lambda_l1': 3.355349282905091e-07, 'lambda_l2': 0.016530115124641403, 'num_leaves': 58, 'feature_fraction': 0.4632796217038323, 'bagging_fraction': 0.9781164269015448, 'bagging_freq': 3, 'min_child_samples': 15, 'learning_rate': 0.1511722267829733, 'max_depth': 8, 'min_data_in_leaf': 99, 'colsample_bytree': 0.9610887189048032}. Best is trial 63 with value: 0.8970872432497312.\n",
      "[I 2023-12-24 11:36:19,350] Trial 71 finished with value: 0.8966971931370422 and parameters: {'lambda_l1': 1.1839943638322783e-06, 'lambda_l2': 0.0021890098291051973, 'num_leaves': 121, 'feature_fraction': 0.48266030897809825, 'bagging_fraction': 0.9351990144179996, 'bagging_freq': 4, 'min_child_samples': 41, 'learning_rate': 0.10890882718179715, 'max_depth': 10, 'min_data_in_leaf': 119, 'colsample_bytree': 0.8824127978466465}. Best is trial 63 with value: 0.8970872432497312.\n",
      "[I 2023-12-24 11:38:03,430] Trial 72 finished with value: 0.8969673941130504 and parameters: {'lambda_l1': 0.0012580720939887602, 'lambda_l2': 0.003327262077982516, 'num_leaves': 112, 'feature_fraction': 0.413941261318172, 'bagging_fraction': 0.8822584648897149, 'bagging_freq': 2, 'min_child_samples': 36, 'learning_rate': 0.12509140789341372, 'max_depth': 10, 'min_data_in_leaf': 184, 'colsample_bytree': 0.9274983582812842}. Best is trial 63 with value: 0.8970872432497312.\n",
      "[I 2023-12-24 11:39:56,277] Trial 73 finished with value: 0.8966143869477149 and parameters: {'lambda_l1': 0.00012699122298322487, 'lambda_l2': 0.00047778538290557643, 'num_leaves': 243, 'feature_fraction': 0.4180075540661877, 'bagging_fraction': 0.8827640910961632, 'bagging_freq': 2, 'min_child_samples': 35, 'learning_rate': 0.12578891349478824, 'max_depth': 10, 'min_data_in_leaf': 183, 'colsample_bytree': 0.919521692407297}. Best is trial 63 with value: 0.8970872432497312.\n",
      "[I 2023-12-24 11:41:48,537] Trial 74 finished with value: 0.8971024969752157 and parameters: {'lambda_l1': 0.0009877862555386495, 'lambda_l2': 0.004019727391799755, 'num_leaves': 102, 'feature_fraction': 0.4434706800066359, 'bagging_fraction': 0.9133278478855834, 'bagging_freq': 2, 'min_child_samples': 29, 'learning_rate': 0.11492432904236276, 'max_depth': 10, 'min_data_in_leaf': 184, 'colsample_bytree': 0.9440239042526164}. Best is trial 74 with value: 0.8971024969752157.\n",
      "[I 2023-12-24 11:43:42,936] Trial 75 finished with value: 0.8968497271867699 and parameters: {'lambda_l1': 0.0003579070306788863, 'lambda_l2': 0.008220070299109787, 'num_leaves': 101, 'feature_fraction': 0.4434814989886926, 'bagging_fraction': 0.9071885953198602, 'bagging_freq': 1, 'min_child_samples': 22, 'learning_rate': 0.09622513854088355, 'max_depth': 9, 'min_data_in_leaf': 187, 'colsample_bytree': 0.942135306681039}. Best is trial 74 with value: 0.8971024969752157.\n",
      "[I 2023-12-24 11:45:17,616] Trial 76 finished with value: 0.8952241439232582 and parameters: {'lambda_l1': 0.0012184613615299428, 'lambda_l2': 0.0035215598571336926, 'num_leaves': 86, 'feature_fraction': 0.4620355656758392, 'bagging_fraction': 0.8534048468444605, 'bagging_freq': 2, 'min_child_samples': 29, 'learning_rate': 0.2534698797687438, 'max_depth': 10, 'min_data_in_leaf': 179, 'colsample_bytree': 0.959167144369836}. Best is trial 74 with value: 0.8971024969752157.\n",
      "[I 2023-12-24 11:46:45,032] Trial 77 finished with value: 0.8962635573631651 and parameters: {'lambda_l1': 0.0018934695806315418, 'lambda_l2': 0.13246491980733133, 'num_leaves': 67, 'feature_fraction': 0.41611248323772376, 'bagging_fraction': 0.8412649665610593, 'bagging_freq': 2, 'min_child_samples': 46, 'learning_rate': 0.12756850230968106, 'max_depth': 9, 'min_data_in_leaf': 194, 'colsample_bytree': 0.9830598155311917}. Best is trial 74 with value: 0.8971024969752157.\n",
      "[I 2023-12-24 11:47:50,012] Trial 78 finished with value: 0.8957100764411982 and parameters: {'lambda_l1': 0.0009288411058980463, 'lambda_l2': 0.0008978477279029314, 'num_leaves': 127, 'feature_fraction': 0.4931361624480401, 'bagging_fraction': 0.9194550948144067, 'bagging_freq': 2, 'min_child_samples': 29, 'learning_rate': 0.14293926481303612, 'max_depth': 5, 'min_data_in_leaf': 166, 'colsample_bytree': 0.8603655420048569}. Best is trial 74 with value: 0.8971024969752157.\n",
      "[I 2023-12-24 11:49:47,675] Trial 79 finished with value: 0.8963420048534207 and parameters: {'lambda_l1': 0.000366086248402666, 'lambda_l2': 0.00015739955578798756, 'num_leaves': 79, 'feature_fraction': 0.6313732172586916, 'bagging_fraction': 0.6858387424075967, 'bagging_freq': 1, 'min_child_samples': 36, 'learning_rate': 0.12166184854703069, 'max_depth': 10, 'min_data_in_leaf': 149, 'colsample_bytree': 0.9140385681357484}. Best is trial 74 with value: 0.8971024969752157.\n",
      "[I 2023-12-24 11:51:27,926] Trial 80 finished with value: 0.8962047227722982 and parameters: {'lambda_l1': 0.010410901667736554, 'lambda_l2': 0.041847370021857136, 'num_leaves': 135, 'feature_fraction': 0.43997043651399437, 'bagging_fraction': 0.7862928472227746, 'bagging_freq': 2, 'min_child_samples': 17, 'learning_rate': 0.16350008571416552, 'max_depth': 10, 'min_data_in_leaf': 178, 'colsample_bytree': 0.9346472796386104}. Best is trial 74 with value: 0.8971024969752157.\n",
      "[I 2023-12-24 11:53:17,792] Trial 81 finished with value: 0.8967298789047872 and parameters: {'lambda_l1': 4.923343532655005e-05, 'lambda_l2': 0.0032328831530134394, 'num_leaves': 115, 'feature_fraction': 0.4200384848189691, 'bagging_fraction': 0.9601691763018976, 'bagging_freq': 3, 'min_child_samples': 33, 'learning_rate': 0.11359452875884642, 'max_depth': 10, 'min_data_in_leaf': 123, 'colsample_bytree': 0.8934003091295346}. Best is trial 74 with value: 0.8971024969752157.\n",
      "[I 2023-12-24 11:55:13,015] Trial 82 finished with value: 0.8969739342627909 and parameters: {'lambda_l1': 0.00304576727315182, 'lambda_l2': 0.007151412891827124, 'num_leaves': 104, 'feature_fraction': 0.4354244378791848, 'bagging_fraction': 0.9809626807740727, 'bagging_freq': 3, 'min_child_samples': 39, 'learning_rate': 0.10624310015769106, 'max_depth': 10, 'min_data_in_leaf': 111, 'colsample_bytree': 0.9511537209316155}. Best is trial 74 with value: 0.8971024969752157.\n",
      "[I 2023-12-24 12:01:20,236] Trial 83 finished with value: 0.8969826505925621 and parameters: {'lambda_l1': 0.003472697087369224, 'lambda_l2': 0.006431039397996157, 'num_leaves': 105, 'feature_fraction': 0.4677784794160504, 'bagging_fraction': 0.895911897285072, 'bagging_freq': 3, 'min_child_samples': 40, 'learning_rate': 0.10134196279020921, 'max_depth': 10, 'min_data_in_leaf': 94, 'colsample_bytree': 0.9523426234568406}. Best is trial 74 with value: 0.8971024969752157.\n",
      "[I 2023-12-24 12:08:16,784] Trial 84 finished with value: 0.8967015481799055 and parameters: {'lambda_l1': 0.00020252721308448965, 'lambda_l2': 0.013041503991958747, 'num_leaves': 105, 'feature_fraction': 0.5092072589652968, 'bagging_fraction': 0.9434339409336477, 'bagging_freq': 3, 'min_child_samples': 48, 'learning_rate': 0.08634627433488895, 'max_depth': 10, 'min_data_in_leaf': 111, 'colsample_bytree': 0.41179666412830346}. Best is trial 74 with value: 0.8971024969752157.\n",
      "[I 2023-12-24 12:13:55,539] Trial 85 finished with value: 0.8968475466145408 and parameters: {'lambda_l1': 0.003322673429158708, 'lambda_l2': 0.006808369582609539, 'num_leaves': 149, 'feature_fraction': 0.4713243561928326, 'bagging_fraction': 0.9772803383074405, 'bagging_freq': 3, 'min_child_samples': 38, 'learning_rate': 0.107181624686326, 'max_depth': 9, 'min_data_in_leaf': 101, 'colsample_bytree': 0.9512924969214918}. Best is trial 74 with value: 0.8971024969752157.\n",
      "[I 2023-12-24 12:19:33,175] Trial 86 finished with value: 0.8962243355529788 and parameters: {'lambda_l1': 0.0007254551327575379, 'lambda_l2': 0.021909364707540797, 'num_leaves': 117, 'feature_fraction': 0.45114578178076165, 'bagging_fraction': 0.8923957174035693, 'bagging_freq': 2, 'min_child_samples': 40, 'learning_rate': 0.07155989572639379, 'max_depth': 10, 'min_data_in_leaf': 114, 'colsample_bytree': 0.5902515926022354}. Best is trial 74 with value: 0.8971024969752157.\n",
      "[I 2023-12-24 12:21:08,400] Trial 87 finished with value: 0.8966296412667397 and parameters: {'lambda_l1': 0.0018667391154046113, 'lambda_l2': 0.004904266416138821, 'num_leaves': 71, 'feature_fraction': 0.5305797102462233, 'bagging_fraction': 0.9628607620032076, 'bagging_freq': 3, 'min_child_samples': 42, 'learning_rate': 0.1368717767823303, 'max_depth': 10, 'min_data_in_leaf': 86, 'colsample_bytree': 0.9875721544650533}. Best is trial 74 with value: 0.8971024969752157.\n",
      "[I 2023-12-24 12:22:39,694] Trial 88 finished with value: 0.8953461724450873 and parameters: {'lambda_l1': 2.431699407342602e-05, 'lambda_l2': 0.0012210801048386478, 'num_leaves': 41, 'feature_fraction': 0.4373605329552965, 'bagging_fraction': 0.9250248713266412, 'bagging_freq': 1, 'min_child_samples': 21, 'learning_rate': 0.08047242609144653, 'max_depth': 9, 'min_data_in_leaf': 135, 'colsample_bytree': 0.9707639298407192}. Best is trial 74 with value: 0.8971024969752157.\n",
      "[I 2023-12-24 12:24:36,328] Trial 89 finished with value: 0.8968824115775013 and parameters: {'lambda_l1': 0.0061433066147872015, 'lambda_l2': 0.008607115131768393, 'num_leaves': 101, 'feature_fraction': 0.479735515594066, 'bagging_fraction': 0.8704418866811979, 'bagging_freq': 2, 'min_child_samples': 30, 'learning_rate': 0.09908480684294288, 'max_depth': 10, 'min_data_in_leaf': 159, 'colsample_bytree': 0.9255184630815327}. Best is trial 74 with value: 0.8971024969752157.\n",
      "[I 2023-12-24 12:27:02,265] Trial 90 finished with value: 0.8970349478351988 and parameters: {'lambda_l1': 9.310782270850316e-05, 'lambda_l2': 0.00031211682048167574, 'num_leaves': 90, 'feature_fraction': 0.4621304151145281, 'bagging_fraction': 0.9837914582610128, 'bagging_freq': 2, 'min_child_samples': 45, 'learning_rate': 0.11970586498319977, 'max_depth': 10, 'min_data_in_leaf': 92, 'colsample_bytree': 0.9500356631695309}. Best is trial 74 with value: 0.8971024969752157.\n",
      "[I 2023-12-24 12:29:38,870] Trial 91 finished with value: 0.897008799178268 and parameters: {'lambda_l1': 8.481290870554553e-05, 'lambda_l2': 0.0002888565515748315, 'num_leaves': 93, 'feature_fraction': 0.971153549671409, 'bagging_fraction': 0.9874919201999355, 'bagging_freq': 2, 'min_child_samples': 45, 'learning_rate': 0.11978495891628665, 'max_depth': 10, 'min_data_in_leaf': 102, 'colsample_bytree': 0.9556446889135762}. Best is trial 74 with value: 0.8971024969752157.\n",
      "[I 2023-12-24 12:35:14,080] Trial 92 finished with value: 0.8971526147377377 and parameters: {'lambda_l1': 0.0001220450790990738, 'lambda_l2': 0.00029227171778729676, 'num_leaves': 91, 'feature_fraction': 0.9824939469789891, 'bagging_fraction': 0.982871483805669, 'bagging_freq': 3, 'min_child_samples': 55, 'learning_rate': 0.11838275960083297, 'max_depth': 10, 'min_data_in_leaf': 94, 'colsample_bytree': 0.9513279658945938}. Best is trial 92 with value: 0.8971526147377377.\n",
      "[I 2023-12-24 12:39:06,843] Trial 93 finished with value: 0.8966209239398208 and parameters: {'lambda_l1': 9.334290832221793e-05, 'lambda_l2': 0.00025265627240692506, 'num_leaves': 90, 'feature_fraction': 0.9232240740153292, 'bagging_fraction': 0.983231566309039, 'bagging_freq': 2, 'min_child_samples': 52, 'learning_rate': 0.09123103061956692, 'max_depth': 10, 'min_data_in_leaf': 93, 'colsample_bytree': 0.9501846852600798}. Best is trial 92 with value: 0.8971526147377377.\n",
      "[I 2023-12-24 12:42:44,507] Trial 94 finished with value: 0.8970589152788768 and parameters: {'lambda_l1': 3.525341711935469e-05, 'lambda_l2': 3.3202359996379384e-05, 'num_leaves': 84, 'feature_fraction': 0.9701626190008614, 'bagging_fraction': 0.9983926347935189, 'bagging_freq': 3, 'min_child_samples': 45, 'learning_rate': 0.10446438088643051, 'max_depth': 10, 'min_data_in_leaf': 102, 'colsample_bytree': 0.9699431685991492}. Best is trial 92 with value: 0.8971526147377377.\n",
      "[I 2023-12-24 12:45:40,807] Trial 95 finished with value: 0.8968736965535188 and parameters: {'lambda_l1': 2.8473871253997645e-05, 'lambda_l2': 2.1024163420226828e-05, 'num_leaves': 84, 'feature_fraction': 0.9822892704895332, 'bagging_fraction': 0.9961561787507811, 'bagging_freq': 2, 'min_child_samples': 46, 'learning_rate': 0.11824044462183327, 'max_depth': 10, 'min_data_in_leaf': 94, 'colsample_bytree': 0.9848440104763776}. Best is trial 92 with value: 0.8971526147377377.\n",
      "[I 2023-12-24 12:48:31,563] Trial 96 finished with value: 0.896769100548782 and parameters: {'lambda_l1': 6.815328777384865e-05, 'lambda_l2': 0.00010073036849006601, 'num_leaves': 97, 'feature_fraction': 0.9733827064169864, 'bagging_fraction': 0.9644883549368408, 'bagging_freq': 1, 'min_child_samples': 55, 'learning_rate': 0.13380163786098692, 'max_depth': 10, 'min_data_in_leaf': 102, 'colsample_bytree': 0.9737879074292003}. Best is trial 92 with value: 0.8971526147377377.\n",
      "[I 2023-12-24 12:50:26,404] Trial 97 finished with value: 0.8965969543356559 and parameters: {'lambda_l1': 8.351114573282338e-06, 'lambda_l2': 4.603739138288161e-05, 'num_leaves': 74, 'feature_fraction': 0.9522655098739332, 'bagging_fraction': 0.9472604718963883, 'bagging_freq': 2, 'min_child_samples': 44, 'learning_rate': 0.10111209772884011, 'max_depth': 9, 'min_data_in_leaf': 84, 'colsample_bytree': 0.9987174445754117}. Best is trial 92 with value: 0.8971526147377377.\n",
      "[I 2023-12-24 12:52:58,304] Trial 98 finished with value: 0.8971177501309017 and parameters: {'lambda_l1': 0.00014930964803067977, 'lambda_l2': 0.00036913090553382914, 'num_leaves': 83, 'feature_fraction': 0.9069318675613791, 'bagging_fraction': 0.9981208294442954, 'bagging_freq': 3, 'min_child_samples': 51, 'learning_rate': 0.1292129062868006, 'max_depth': 10, 'min_data_in_leaf': 80, 'colsample_bytree': 0.5103363235374232}. Best is trial 92 with value: 0.8971526147377377.\n",
      "[I 2023-12-24 12:54:53,463] Trial 99 finished with value: 0.8969761109888786 and parameters: {'lambda_l1': 0.00013309535392047294, 'lambda_l2': 0.0004079858327004031, 'num_leaves': 67, 'feature_fraction': 0.9554954700829689, 'bagging_fraction': 0.9883484022795949, 'bagging_freq': 3, 'min_child_samples': 51, 'learning_rate': 0.1502340754928927, 'max_depth': 10, 'min_data_in_leaf': 74, 'colsample_bytree': 0.4704723246232176}. Best is trial 92 with value: 0.8971526147377377.\n"
     ]
    },
    {
     "name": "stdout",
     "output_type": "stream",
     "text": [
      "available\n",
      "Number of finished trials: 100\n",
      "Best trial: {}\n",
      "  Value: 0.8971526147377377\n",
      "  Params: \n",
      "    lambda_l1: 0.0001220450790990738\n",
      "    lambda_l2: 0.00029227171778729676\n",
      "    num_leaves: 91\n",
      "    feature_fraction: 0.9824939469789891\n",
      "    bagging_fraction: 0.982871483805669\n",
      "    bagging_freq: 3\n",
      "    min_child_samples: 55\n",
      "    learning_rate: 0.11838275960083297\n",
      "    max_depth: 10\n",
      "    min_data_in_leaf: 94\n",
      "    colsample_bytree: 0.9513279658945938\n"
     ]
    }
   ],
   "source": [
    "evaluator = MeanDecreaseImpurityImportanceEvaluator()\n",
    "study = optuna.create_study(\n",
    "    direction=\"maximize\",\n",
    "    sampler=TPESampler(),\n",
    "    pruner=MedianPruner()\n",
    ")\n",
    "print(\"study begin\")\n",
    "print(train_data.columns)\n",
    "#train_data=train_data.drop(columns=['customer_ID'])\n",
    "objective = create_objective(train_data,new_feature_names)\n",
    "study.optimize(objective, n_trials=100)\n",
    "# optuna.visualization.plot_contour(study)#可视化\n",
    "if (optuna.visualization.is_available() == True):\n",
    "    print(\"available\")\n",
    "\n",
    "fig1 = optuna.visualization.plot_optimization_history(study)  # 画出一个 study 中所有 trial 的优化历史记录。\n",
    "fig1.write_image(\"optimization_history.png\")\n",
    "\n",
    "# fig2 =optuna.visualization.plot_parallel_coordinate(study)#绘制一个 study 中高维度参数的关系图。\n",
    "# fig2.write_image(\"parallel_coordinate.png\")\n",
    "\n",
    "fig3 = optuna.visualization.plot_param_importances(study, evaluator=evaluator)  # 画出超参数的重要性\n",
    "fig3.write_image(\"param_importances.png\")\n",
    "\n",
    "# fig4=optuna.visualization.plot_contour(study) #将参数关系画成等高线图。\n",
    "# fig4.write_image(\"contour.png\")\n",
    "\n",
    "print(\"Number of finished trials: {}\".format(len(study.trials)))\n",
    "\n",
    "print(\"Best trial: {}\")\n",
    "trial = study.best_trial\n",
    "\n",
    "print(\"  Value: {}\".format(trial.value))\n",
    "\n",
    "print(\"  Params: \")\n",
    "for key, value in trial.params.items():\n",
    "    print(\"    {}: {}\".format(key, value))\n",
    "\n"
   ]
  },
  {
   "cell_type": "code",
   "execution_count": 8,
   "id": "8cb0a467-94b8-4032-a960-a3b35e1910cf",
   "metadata": {
    "execution": {
     "iopub.execute_input": "2023-12-24T12:54:54.764236Z",
     "iopub.status.busy": "2023-12-24T12:54:54.764000Z",
     "iopub.status.idle": "2023-12-24T12:54:54.770753Z",
     "shell.execute_reply": "2023-12-24T12:54:54.769615Z",
     "shell.execute_reply.started": "2023-12-24T12:54:54.764201Z"
    },
    "tags": []
   },
   "outputs": [
    {
     "name": "stdout",
     "output_type": "stream",
     "text": [
      "Index(['index', 'S_2_count', 'B_30_0.0_last', 'B_30_0.0_nunique',\n",
      "       'B_30_100.0_last', 'B_30_100.0_nunique', 'B_30_200.0_last',\n",
      "       'B_30_200.0_nunique', 'B_38_100.0_last', 'B_38_100.0_nunique',\n",
      "       ...\n",
      "       'D_143_max', 'D_144_mean', 'D_144_std', 'D_144_min', 'D_144_max',\n",
      "       'D_145_mean', 'D_145_std', 'D_145_min', 'D_145_max', 'target'],\n",
      "      dtype='object', length=803)\n"
     ]
    }
   ],
   "source": [
    "print(train_data.columns)"
   ]
  },
  {
   "cell_type": "code",
   "execution_count": 9,
   "id": "3e0ccca2-4a43-4d2e-bb4d-33549a64caca",
   "metadata": {
    "execution": {
     "iopub.execute_input": "2023-12-24T12:54:54.772007Z",
     "iopub.status.busy": "2023-12-24T12:54:54.771833Z",
     "iopub.status.idle": "2023-12-24T12:54:54.785589Z",
     "shell.execute_reply": "2023-12-24T12:54:54.784858Z",
     "shell.execute_reply.started": "2023-12-24T12:54:54.771989Z"
    },
    "tags": []
   },
   "outputs": [
    {
     "name": "stdout",
     "output_type": "stream",
     "text": [
      "Missing in Test:  {'D_66_0.0_nunique', 'D_64_1_nunique', 'D_66_0.0_last', 'D_64_1_last', 'D_68_0.0_nunique', 'D_68_0.0_last', 'target'}\n",
      "Missing in Train:  set()\n"
     ]
    }
   ],
   "source": [
    "# 找出训练数据和测试数据中特征的不一致\n",
    "train_features = set(train_data.columns)\n",
    "test_features = set(test_data.columns)\n",
    "\n",
    "# 在训练数据中存在但在测试数据中不存在的特征\n",
    "missing_in_test = train_features - test_features\n",
    "\n",
    "# 在测试数据中存在但在训练数据中不存在的特征\n",
    "missing_in_train = test_features - train_features\n",
    "\n",
    "# 输出缺失的特征\n",
    "print(\"Missing in Test: \", missing_in_test)\n",
    "print(\"Missing in Train: \", missing_in_train)\n",
    "\n",
    "# 处理缺失的特征\n",
    "# 您可以根据具体情况选择添加缺失的特征或删除多余的特征\n",
    "# 为测试集中缺失的特征添加默认值\n",
    "for feature in missing_in_test:\n",
    "    if feature != 'target':  # 排除 'target'，因为它不应该在测试集中\n",
    "        # 用适当的默认值填充，这里用0作为例子\n",
    "        test_data[feature] = 0\n"
   ]
  },
  {
   "cell_type": "code",
   "execution_count": 10,
   "id": "f73e8ba5-75cc-42a6-aa7b-b6fe2a38d170",
   "metadata": {
    "execution": {
     "iopub.execute_input": "2023-12-24T12:54:54.786543Z",
     "iopub.status.busy": "2023-12-24T12:54:54.786376Z",
     "iopub.status.idle": "2023-12-24T12:55:24.718971Z",
     "shell.execute_reply": "2023-12-24T12:55:24.718049Z",
     "shell.execute_reply.started": "2023-12-24T12:54:54.786526Z"
    },
    "tags": []
   },
   "outputs": [
    {
     "name": "stdout",
     "output_type": "stream",
     "text": [
      "[LightGBM] [Warning] feature_fraction is set=0.9824939469789891, colsample_bytree=0.9513279658945938 will be ignored. Current value: feature_fraction=0.9824939469789891\n",
      "[LightGBM] [Warning] min_data_in_leaf is set=94, min_child_samples=55 will be ignored. Current value: min_data_in_leaf=94\n",
      "[LightGBM] [Warning] feature_fraction is set=0.9824939469789891, colsample_bytree=0.9513279658945938 will be ignored. Current value: feature_fraction=0.9824939469789891\n",
      "[LightGBM] [Warning] min_data_in_leaf is set=94, min_child_samples=55 will be ignored. Current value: min_data_in_leaf=94\n",
      "[LightGBM] [Info] Auto-choosing col-wise multi-threading, the overhead of testing was 0.774178 seconds.\n",
      "You can set `force_col_wise=true` to remove the overhead.\n",
      "[LightGBM] [Info] Total Bins 100360\n",
      "[LightGBM] [Info] Number of data points in the train set: 458913, number of used features: 783\n",
      "[LightGBM] [Info] Start training from score 0.258934\n"
     ]
    }
   ],
   "source": [
    "# 使用最佳参数重新训练模型\n",
    "best_params = trial.params\n",
    "best_model = lgb.train(best_params, lgb.Dataset(train_data.drop(columns=[\"target\"]), label=train_data[\"target\"]))\n",
    "\n",
    "# 对测试数据进行概率预测\n",
    "test_probs = best_model.predict(test_data)\n"
   ]
  },
  {
   "cell_type": "code",
   "execution_count": 11,
   "id": "87777bb3-6df0-409b-b45e-8a89949b0833",
   "metadata": {
    "execution": {
     "iopub.execute_input": "2023-12-24T12:55:24.720311Z",
     "iopub.status.busy": "2023-12-24T12:55:24.720079Z",
     "iopub.status.idle": "2023-12-24T12:55:24.724789Z",
     "shell.execute_reply": "2023-12-24T12:55:24.723992Z",
     "shell.execute_reply.started": "2023-12-24T12:55:24.720290Z"
    },
    "tags": []
   },
   "outputs": [
    {
     "name": "stdout",
     "output_type": "stream",
     "text": [
      "[0.60837108 0.53860544 0.52500035 ... 0.60213668 0.86065507 0.46585182]\n",
      "(924621,)\n"
     ]
    }
   ],
   "source": [
    "print(test_probs)\n",
    "print(test_probs.shape)"
   ]
  },
  {
   "cell_type": "code",
   "execution_count": 12,
   "id": "b65b4f80-94eb-4aa6-bef5-6cb06f1184da",
   "metadata": {
    "execution": {
     "iopub.execute_input": "2023-12-24T12:55:24.725820Z",
     "iopub.status.busy": "2023-12-24T12:55:24.725648Z",
     "iopub.status.idle": "2023-12-24T12:55:24.730845Z",
     "shell.execute_reply": "2023-12-24T12:55:24.730252Z",
     "shell.execute_reply.started": "2023-12-24T12:55:24.725802Z"
    },
    "tags": []
   },
   "outputs": [
    {
     "name": "stdout",
     "output_type": "stream",
     "text": [
      "0         00000469ba478561f23a92a868bd366de6f6527a684c9a...\n",
      "1         00001bf2e77ff879fab36aa4fac689b9ba411dae63ae39...\n",
      "2         0000210045da4f81e5f122c6bde5c2a617d03eef67f82c...\n",
      "3         00003b41e58ede33b8daf61ab56d9952f17c9ad1c3976c...\n",
      "4         00004b22eaeeeb0ec976890c1d9bfc14fd9427e98c4ee9...\n",
      "                                ...                        \n",
      "924616    ffff952c631f2c911b8a2a8ca56ea6e656309a83d2f64c...\n",
      "924617    ffffcf5df59e5e0bba2a5ac4578a34e2b5aa64a1546cd3...\n",
      "924618    ffffd61f098cc056dbd7d2a21380c4804bbfe60856f475...\n",
      "924619    ffffddef1fc3643ea179c93245b68dca0f36941cd83977...\n",
      "924620    fffffa7cf7e453e1acc6a1426475d5cb9400859f82ff61...\n",
      "Name: customer_ID, Length: 924621, dtype: object\n"
     ]
    }
   ],
   "source": [
    "\n",
    "print(customer_ids)"
   ]
  },
  {
   "cell_type": "code",
   "execution_count": 13,
   "id": "6d83594c-f7bf-4c8c-ac28-07743ccd4ddd",
   "metadata": {
    "execution": {
     "iopub.execute_input": "2023-12-24T12:55:24.731784Z",
     "iopub.status.busy": "2023-12-24T12:55:24.731620Z",
     "iopub.status.idle": "2023-12-24T12:55:26.660039Z",
     "shell.execute_reply": "2023-12-24T12:55:26.658883Z",
     "shell.execute_reply.started": "2023-12-24T12:55:24.731766Z"
    },
    "tags": []
   },
   "outputs": [],
   "source": [
    "\n",
    "\n",
    "# 创建一个包含 customer_ID 和预测概率的 DataFrame\n",
    "results_df = pd.DataFrame({\n",
    "    'customer_ID': customer_ids,\n",
    "    'prediction': test_probs\n",
    "})\n",
    "\n",
    "# 将 DataFrame 保存为 CSV 文件\n",
    "result_csv=results_df.to_csv('predictions.csv', index=False)"
   ]
  },
  {
   "cell_type": "markdown",
   "id": "d3dc4a28-3194-479b-88f8-ac46a1b98707",
   "metadata": {},
   "source": [
    "### "
   ]
  },
  {
   "cell_type": "code",
   "execution_count": 14,
   "id": "2eca1339-eda1-4d30-8618-bb3b92dd51a1",
   "metadata": {
    "execution": {
     "iopub.execute_input": "2023-12-24T13:46:34.379036Z",
     "iopub.status.busy": "2023-12-24T13:46:34.378396Z",
     "iopub.status.idle": "2023-12-24T13:46:34.385728Z",
     "shell.execute_reply": "2023-12-24T13:46:34.384060Z",
     "shell.execute_reply.started": "2023-12-24T13:46:34.379008Z"
    }
   },
   "outputs": [
    {
     "name": "stdout",
     "output_type": "stream",
     "text": [
      "{'lambda_l1': 0.0001220450790990738, 'lambda_l2': 0.00029227171778729676, 'num_leaves': 91, 'feature_fraction': 0.9824939469789891, 'bagging_fraction': 0.982871483805669, 'bagging_freq': 3, 'min_child_samples': 55, 'learning_rate': 0.11838275960083297, 'max_depth': 10, 'min_data_in_leaf': 94, 'colsample_bytree': 0.9513279658945938}\n"
     ]
    }
   ],
   "source": [
    "print(best_params)"
   ]
  },
  {
   "cell_type": "code",
   "execution_count": 16,
   "id": "c403a60e-3d6d-4a4f-8f44-dec304a5f0d8",
   "metadata": {
    "execution": {
     "iopub.execute_input": "2023-12-24T13:47:09.525783Z",
     "iopub.status.busy": "2023-12-24T13:47:09.525448Z",
     "iopub.status.idle": "2023-12-24T13:47:09.531116Z",
     "shell.execute_reply": "2023-12-24T13:47:09.530267Z",
     "shell.execute_reply.started": "2023-12-24T13:47:09.525761Z"
    },
    "tags": []
   },
   "outputs": [
    {
     "name": "stdout",
     "output_type": "stream",
     "text": [
      "{'lambda_l1': 0.0001220450790990738, 'lambda_l2': 0.00029227171778729676, 'num_leaves': 91, 'feature_fraction': 0.9824939469789891, 'bagging_fraction': 0.982871483805669, 'bagging_freq': 3, 'min_child_samples': 55, 'learning_rate': 0.11838275960083297, 'max_depth': 10, 'min_data_in_leaf': 94, 'colsample_bytree': 0.9513279658945938, 'objective': None, 'num_iterations': 100}\n"
     ]
    }
   ],
   "source": [
    "print(best_model.params)"
   ]
  },
  {
   "cell_type": "code",
   "execution_count": null,
   "id": "1a83ff01-3c84-43aa-9a6c-05897fc6aa53",
   "metadata": {},
   "outputs": [],
   "source": []
  }
 ],
 "metadata": {
  "kernelspec": {
   "display_name": "Python 3 (ipykernel)",
   "language": "python",
   "name": "python3"
  },
  "language_info": {
   "codemirror_mode": {
    "name": "ipython",
    "version": 3
   },
   "file_extension": ".py",
   "mimetype": "text/x-python",
   "name": "python",
   "nbconvert_exporter": "python",
   "pygments_lexer": "ipython3",
   "version": "3.8.18"
  }
 },
 "nbformat": 4,
 "nbformat_minor": 5
}
