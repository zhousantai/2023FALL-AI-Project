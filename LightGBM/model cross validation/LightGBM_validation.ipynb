{
 "cells": [
  {
   "cell_type": "code",
   "execution_count": 1,
   "id": "bd3efde3-9a72-4d06-8f0a-ac96e8110e40",
   "metadata": {
    "collapsed": true,
    "execution": {
     "iopub.execute_input": "2023-12-25T14:54:31.953369Z",
     "iopub.status.busy": "2023-12-25T14:54:31.953058Z",
     "iopub.status.idle": "2023-12-25T14:54:37.549941Z",
     "shell.execute_reply": "2023-12-25T14:54:37.549368Z",
     "shell.execute_reply.started": "2023-12-25T14:54:31.953329Z"
    },
    "jupyter": {
     "outputs_hidden": true
    },
    "tags": []
   },
   "outputs": [
    {
     "name": "stdout",
     "output_type": "stream",
     "text": [
      "Looking in indexes: https://pypi.tuna.tsinghua.edu.cn/simple\n",
      "Requirement already satisfied: plotly in /usr/local/lib/python3.8/site-packages (5.18.0)\n",
      "Requirement already satisfied: tenacity>=6.2.0 in /usr/local/lib/python3.8/site-packages (from plotly) (8.2.3)\n",
      "Requirement already satisfied: packaging in /usr/local/lib/python3.8/site-packages (from plotly) (23.1)\n",
      "\u001b[33mWARNING: Running pip as the 'root' user can result in broken permissions and conflicting behaviour with the system package manager. It is recommended to use a virtual environment instead: https://pip.pypa.io/warnings/venv\u001b[0m\u001b[33m\n",
      "\u001b[0mLooking in indexes: https://pypi.tuna.tsinghua.edu.cn/simple\n",
      "Requirement already satisfied: lightgbm in /usr/local/lib/python3.8/site-packages (4.2.0)\n",
      "Requirement already satisfied: numpy in /usr/local/lib/python3.8/site-packages (from lightgbm) (1.24.4)\n",
      "Requirement already satisfied: scipy in /usr/local/lib/python3.8/site-packages (from lightgbm) (1.10.1)\n",
      "\u001b[33mWARNING: Running pip as the 'root' user can result in broken permissions and conflicting behaviour with the system package manager. It is recommended to use a virtual environment instead: https://pip.pypa.io/warnings/venv\u001b[0m\u001b[33m\n",
      "\u001b[0mLooking in indexes: https://pypi.tuna.tsinghua.edu.cn/simple\n",
      "Requirement already satisfied: pyarrow in /usr/local/lib/python3.8/site-packages (14.0.2)\n",
      "Requirement already satisfied: numpy>=1.16.6 in /usr/local/lib/python3.8/site-packages (from pyarrow) (1.24.4)\n",
      "\u001b[33mWARNING: Running pip as the 'root' user can result in broken permissions and conflicting behaviour with the system package manager. It is recommended to use a virtual environment instead: https://pip.pypa.io/warnings/venv\u001b[0m\u001b[33m\n",
      "\u001b[0m"
     ]
    }
   ],
   "source": [
    "!pip install plotly\n",
    "\n",
    "!pip install lightgbm\n",
    "\n",
    "!pip install pyarrow\n",
    "\n",
    "# 科学计算模块\n",
    "import matplotlib\n",
    "import numpy as np\n",
    "import pandas as pd\n",
    "\n",
    "# 绘图模块\n",
    "import matplotlib as mpl\n",
    "import matplotlib.pyplot as plt\n",
    "import plotly\n",
    "from sklearn.model_selection import train_test_split, KFold\n",
    "import numpy as np\n",
    "\n",
    "from sklearn.metrics import accuracy_score\n",
    "import lightgbm as lgb\n",
    "import pandas as pd\n",
    "import numpy as np\n",
    "from sklearn.preprocessing import OneHotEncoder"
   ]
  },
  {
   "cell_type": "code",
   "execution_count": 2,
   "id": "35f4881a-8ecd-4665-b904-5d640a8c112c",
   "metadata": {
    "execution": {
     "iopub.execute_input": "2023-12-25T14:54:37.551609Z",
     "iopub.status.busy": "2023-12-25T14:54:37.551118Z",
     "iopub.status.idle": "2023-12-25T14:54:39.502773Z",
     "shell.execute_reply": "2023-12-25T14:54:39.501783Z",
     "shell.execute_reply.started": "2023-12-25T14:54:37.551588Z"
    },
    "tags": []
   },
   "outputs": [],
   "source": [
    "train_data_original1 = pd.read_feather('./input/train.feather')\n",
    "labels1 = pd.read_csv('/openbayes/input/input0/train_labels.csv')\n",
    "\n",
    "\n",
    "\n",
    "\n",
    "train_data_original=train_data_original1.iloc[0:3616080]\n",
    "labels=labels1.iloc[0:300000]\n",
    "\n",
    "cross_validation_test_data=train_data_original1.iloc[3616080:]\n",
    "cross_validation_test_label=labels1.iloc[300000:]"
   ]
  },
  {
   "cell_type": "code",
   "execution_count": 3,
   "id": "abc01bdf-a7cf-4a1e-9527-9032ccb8de86",
   "metadata": {
    "execution": {
     "iopub.execute_input": "2023-12-25T14:54:39.504006Z",
     "iopub.status.busy": "2023-12-25T14:54:39.503742Z",
     "iopub.status.idle": "2023-12-25T14:54:39.510045Z",
     "shell.execute_reply": "2023-12-25T14:54:39.509323Z",
     "shell.execute_reply.started": "2023-12-25T14:54:39.503978Z"
    },
    "tags": []
   },
   "outputs": [],
   "source": [
    "lgb_config = {\n",
    "    'lgb_params': {\n",
    "        'objective': 'binary',\n",
    "        'metric': 'binary_logloss',\n",
    "        'boosting': 'dart',\n",
    "        'max_depth': -1,\n",
    "        'num_leaves': 64,\n",
    "        'learning_rate': 0.035,\n",
    "        'bagging_freq': 5,\n",
    "        'bagging_fraction': 0.75,\n",
    "        'feature_fraction': 0.05,\n",
    "        'min_data_in_leaf': 256,\n",
    "        'max_bin': 63,\n",
    "        'min_data_in_bin': 256,\n",
    "        'tree_learner': 'serial',\n",
    "        'boost_from_average': 'false',\n",
    "        'lambda_l1': 0.1,\n",
    "        'lambda_l2': 30,\n",
    "        'num_threads': 24,\n",
    "        'verbosity': 1,\n",
    "    },\n",
    "    'rounds': 4500,\n",
    "    #'early_stopping_rounds': 100,\n",
    "    'verbose_eval': 50,\n",
    "}\n",
    "# 定义早停函数\n",
    "#early_stopping = lgb.early_stopping(lgb_config['early_stopping_rounds'], verbose=lgb_config['verbose_eval'])\n"
   ]
  },
  {
   "cell_type": "code",
   "execution_count": 4,
   "id": "61dcbdec-bf40-4f7f-b4b1-b88b0f620f57",
   "metadata": {
    "execution": {
     "iopub.execute_input": "2023-12-25T14:54:39.511238Z",
     "iopub.status.busy": "2023-12-25T14:54:39.510989Z",
     "iopub.status.idle": "2023-12-25T14:54:39.522657Z",
     "shell.execute_reply": "2023-12-25T14:54:39.521797Z",
     "shell.execute_reply.started": "2023-12-25T14:54:39.511211Z"
    },
    "jupyter": {
     "source_hidden": true
    },
    "tags": []
   },
   "outputs": [],
   "source": [
    "def optimized_preprocessing(df, mode):\n",
    "    cat_features = [\"B_30\", \"B_38\", \"D_114\", \"D_116\", \"D_117\", \"D_120\", \"D_126\", \"D_63\", \"D_64\", \"D_66\", \"D_68\"]\n",
    "    ignore_features = [\"B_30\", \"B_38\", \"D_114\", \"D_116\", \"D_117\", \"D_120\", \"D_126\", \"D_63\", \"D_64\", \"D_66\", \"D_68\",\n",
    "                       'S_2', 'customer_ID', 'target']\n",
    "    numeric_features = [col for col in df.columns if col not in ignore_features]\n",
    "    target_features = ['target']\n",
    "\n",
    "    # print(\"This is in [2], Columns before processing:\"+\",\".join(df.columns))\n",
    "\n",
    "    # 使用更高效的方式填充缺失值\n",
    "    # 使用 .loc[] 方法安全地替换缺失值\n",
    "    df.loc[:, numeric_features] = df[numeric_features].fillna(df[numeric_features].median())\n",
    "    df.loc[:, cat_features] = df[cat_features].fillna(df[cat_features].mode().iloc[0])\n",
    "\n",
    "\n",
    "    # 类别特征的独热编码\n",
    "    encoder = OneHotEncoder()\n",
    "    encoded_data = encoder.fit_transform(df[cat_features]).toarray()\n",
    "    new_feature_names = encoder.get_feature_names_out(cat_features)\n",
    "    encoded_df = pd.DataFrame(encoded_data, columns=new_feature_names)\n",
    "    final_df = pd.concat([df.drop(cat_features, axis=1), encoded_df], axis=1)\n",
    "\n",
    "    # 数值特征处理\n",
    "    final_df[numeric_features] = np.floor(df[numeric_features] * 100)\n",
    "\n",
    "    # 时间特征处理\n",
    "    final_df[\"S_2\"] = pd.to_datetime(df[\"S_2\"])\n",
    "\n",
    "    # 聚合特征\n",
    "    if mode == 0:\n",
    "        agg_funcs = {\n",
    "            \"S_2\": ['count'],\n",
    "            **{name: ['last', 'nunique'] for name in new_feature_names},\n",
    "            **{name: ['mean', 'std', 'min', 'max'] for name in numeric_features},\n",
    "            label_name: ['last']  # 添加对标签的聚合操作\n",
    "        }\n",
    "    else:\n",
    "        agg_funcs = {\n",
    "            \"S_2\": ['count'],\n",
    "            **{name: ['last', 'nunique'] for name in new_feature_names},\n",
    "            **{name: ['mean', 'std', 'min', 'max'] for name in numeric_features},\n",
    "        }\n",
    "\n",
    "    final_agg_df = final_df.groupby(\"customer_ID\", sort=False).agg(agg_funcs).reset_index(drop=False)\n",
    "\n",
    "    new_feature_names = ['_'.join(x) for x in final_agg_df.columns]\n",
    "    final_agg_df.columns = new_feature_names\n",
    "    # 如果 'target_last' 存在于列名中，将其重命名为 'target'\n",
    "\n",
    "    if 'target_last' in final_agg_df.columns:\n",
    "        final_agg_df = final_agg_df.rename(columns={'target_last': 'target'})\n",
    "\n",
    "    if 'customer_ID_' in final_agg_df.columns:\n",
    "        final_agg_df = final_agg_df.rename(columns={'customer_ID_': 'customer_ID'})\n",
    "\n",
    "    customer_ids = final_agg_df['customer_ID']\n",
    "    final_agg_df.reset_index(drop=False, inplace=True)\n",
    "    final_agg_df = final_agg_df.drop(columns=['customer_ID'])\n",
    "\n",
    "    # print(\"This is in [2], final_agg_df.columns: \"+\",\".join(final_agg_df.columns))\n",
    "\n",
    "    return final_agg_df, new_feature_names, customer_ids"
   ]
  },
  {
   "cell_type": "code",
   "execution_count": 5,
   "id": "7f2569a6-bdbe-4045-8f13-745bae24d2ce",
   "metadata": {
    "execution": {
     "iopub.execute_input": "2023-12-25T14:54:39.523688Z",
     "iopub.status.busy": "2023-12-25T14:54:39.523456Z",
     "iopub.status.idle": "2023-12-25T14:54:39.530040Z",
     "shell.execute_reply": "2023-12-25T14:54:39.529251Z",
     "shell.execute_reply.started": "2023-12-25T14:54:39.523661Z"
    },
    "tags": []
   },
   "outputs": [],
   "source": [
    "def My_best_model_training(train_data, new_feature_names, lgb_config):\n",
    "    kf = KFold(n_splits=5, shuffle=True, random_state=42)\n",
    "    accuracies = []\n",
    "    models = []  # 存储每个折的模型\n",
    "\n",
    "    for train_index, test_index in kf.split(train_data):\n",
    "        X_train_fold = train_data.iloc[train_index].drop(columns=['target'])\n",
    "        y_train_fold = train_data.iloc[train_index]['target']\n",
    "        X_valid_fold = train_data.iloc[test_index].drop(columns=['target'])\n",
    "        y_valid_fold = train_data.iloc[test_index]['target']\n",
    "\n",
    "        # 将特征名称更新为新的特征名称\n",
    "        lgb_config['feature_name'] = new_feature_names\n",
    "\n",
    "        # 将训练数据和标签转换为LightGBM的Dataset对象\n",
    "         # Create LightGBM Dataset objects for training and validation\n",
    "        dtrain = lgb.Dataset(X_train_fold, label=y_train_fold)\n",
    "        dvalid = lgb.Dataset(X_valid_fold, label=y_valid_fold)\n",
    "\n",
    "        My_best_model = lgb.train(\n",
    "            lgb_config['lgb_params'],\n",
    "            dtrain,\n",
    "            num_boost_round=lgb_config['rounds'],\n",
    "            valid_sets=[dvalid],\n",
    "            #verbose_eval=lgb_config['verbose_eval']\n",
    "        )\n",
    "\n",
    "\n",
    "        # 获取验证集上的预测概率\n",
    "        probs = My_best_model.predict(X_valid_fold)\n",
    "        pred_labels = (probs >= 0.5).astype(int)\n",
    "\n",
    "        # 计算精度\n",
    "        accuracy = accuracy_score(y_valid_fold, pred_labels)\n",
    "        accuracies.append(accuracy)\n",
    "        models.append(My_best_model)\n",
    "\n",
    "    # 返回交叉验证的平均精度和每个折的模型\n",
    "    return models, np.mean(accuracies)"
   ]
  },
  {
   "cell_type": "code",
   "execution_count": 6,
   "id": "cd1f689e-11db-4e4c-90c4-e994f32e8ee8",
   "metadata": {
    "execution": {
     "iopub.execute_input": "2023-12-25T14:54:39.531349Z",
     "iopub.status.busy": "2023-12-25T14:54:39.530888Z",
     "iopub.status.idle": "2023-12-25T14:55:45.456679Z",
     "shell.execute_reply": "2023-12-25T14:55:45.455507Z",
     "shell.execute_reply.started": "2023-12-25T14:54:39.531319Z"
    },
    "tags": []
   },
   "outputs": [],
   "source": [
    "train_data = pd.merge(train_data_original, labels, on='customer_ID', how='left')\n",
    "label_name = 'target'\n",
    "\n",
    "train_data, new_feature_names, _ = optimized_preprocessing(train_data, 0)\n",
    "\n",
    "# 移除 'customer_ID_'\n",
    "if 'customer_ID_' in new_feature_names:\n",
    "    new_feature_names.remove('customer_ID_')\n",
    "if 'S_2_count' in new_feature_names:\n",
    "    new_feature_names.remove('S_2_count')\n",
    "\n",
    "# 将 'target_last' 替换为 'target'\n",
    "if 'target_last' in new_feature_names:\n",
    "    index = new_feature_names.index('target_last')\n",
    "    new_feature_names[index] = 'target'\n",
    "\n",
    "test_data, useless, customer_ids = optimized_preprocessing(cross_validation_test_data, 1)"
   ]
  },
  {
   "cell_type": "code",
   "execution_count": 7,
   "id": "de083fde-547c-4b72-aa5d-7be3af425b87",
   "metadata": {
    "execution": {
     "iopub.execute_input": "2023-12-25T14:55:45.458678Z",
     "iopub.status.busy": "2023-12-25T14:55:45.458500Z",
     "iopub.status.idle": "2023-12-25T15:20:37.375746Z",
     "shell.execute_reply": "2023-12-25T15:20:37.374996Z",
     "shell.execute_reply.started": "2023-12-25T14:55:45.458658Z"
    },
    "tags": []
   },
   "outputs": [
    {
     "name": "stdout",
     "output_type": "stream",
     "text": [
      "[LightGBM] [Info] Number of positive: 62382, number of negative: 177618\n",
      "[LightGBM] [Info] Auto-choosing row-wise multi-threading, the overhead of testing was 0.055302 seconds.\n",
      "You can set `force_row_wise=true` to remove the overhead.\n",
      "And if memory is not enough, you can set `force_col_wise=true`.\n",
      "[LightGBM] [Info] Total Bins 28565\n",
      "[LightGBM] [Info] Number of data points in the train set: 240000, number of used features: 763\n",
      "[LightGBM] [Info] Number of positive: 62414, number of negative: 177586\n",
      "[LightGBM] [Info] Auto-choosing row-wise multi-threading, the overhead of testing was 0.060285 seconds.\n",
      "You can set `force_row_wise=true` to remove the overhead.\n",
      "And if memory is not enough, you can set `force_col_wise=true`.\n",
      "[LightGBM] [Info] Total Bins 28496\n",
      "[LightGBM] [Info] Number of data points in the train set: 240000, number of used features: 764\n",
      "[LightGBM] [Info] Number of positive: 62404, number of negative: 177596\n",
      "[LightGBM] [Info] Auto-choosing row-wise multi-threading, the overhead of testing was 0.044011 seconds.\n",
      "You can set `force_row_wise=true` to remove the overhead.\n",
      "And if memory is not enough, you can set `force_col_wise=true`.\n",
      "[LightGBM] [Info] Total Bins 28590\n",
      "[LightGBM] [Info] Number of data points in the train set: 240000, number of used features: 763\n",
      "[LightGBM] [Info] Number of positive: 62412, number of negative: 177588\n",
      "[LightGBM] [Info] Auto-choosing row-wise multi-threading, the overhead of testing was 0.044004 seconds.\n",
      "You can set `force_row_wise=true` to remove the overhead.\n",
      "And if memory is not enough, you can set `force_col_wise=true`.\n",
      "[LightGBM] [Info] Total Bins 28534\n",
      "[LightGBM] [Info] Number of data points in the train set: 240000, number of used features: 764\n",
      "[LightGBM] [Info] Number of positive: 62448, number of negative: 177552\n",
      "[LightGBM] [Info] Auto-choosing row-wise multi-threading, the overhead of testing was 0.047451 seconds.\n",
      "You can set `force_row_wise=true` to remove the overhead.\n",
      "And if memory is not enough, you can set `force_col_wise=true`.\n",
      "[LightGBM] [Info] Total Bins 28607\n",
      "[LightGBM] [Info] Number of data points in the train set: 240000, number of used features: 763\n",
      "Mean accuracy: 0.8978900000000001\n"
     ]
    }
   ],
   "source": [
    "lgb_train_data = lgb.Dataset(train_data.drop(columns=['target']), label=train_data[\"target\"])\n",
    "\n",
    "models,mean_accuracy=My_best_model_training(train_data,new_feature_names,lgb_config)\n",
    "\n",
    "print(\"Mean accuracy:\",mean_accuracy)"
   ]
  },
  {
   "cell_type": "code",
   "execution_count": 8,
   "id": "b07cd83f-64a5-4cac-a415-155956a8693e",
   "metadata": {
    "execution": {
     "iopub.execute_input": "2023-12-25T15:20:37.376910Z",
     "iopub.status.busy": "2023-12-25T15:20:37.376741Z",
     "iopub.status.idle": "2023-12-25T15:20:37.381145Z",
     "shell.execute_reply": "2023-12-25T15:20:37.380691Z",
     "shell.execute_reply.started": "2023-12-25T15:20:37.376891Z"
    },
    "jupyter": {
     "source_hidden": true
    },
    "tags": []
   },
   "outputs": [
    {
     "name": "stdout",
     "output_type": "stream",
     "text": [
      "Missing in Test:  {'target'}\n",
      "Missing in Train:  set()\n"
     ]
    }
   ],
   "source": [
    "# 找出训练数据和测试数据中特征的不一致\n",
    "train_features = set(train_data.columns)\n",
    "test_features = set(test_data.columns)\n",
    "\n",
    "# 在训练数据中存在但在测试数据中不存在的特征\n",
    "missing_in_test = train_features - test_features\n",
    "\n",
    "# 在测试数据中存在但在训练数据中不存在的特征\n",
    "missing_in_train = test_features - train_features\n",
    "\n",
    "# 输出缺失的特征\n",
    "print(\"Missing in Test: \", missing_in_test)\n",
    "print(\"Missing in Train: \", missing_in_train)\n",
    "\n",
    "# 处理缺失的特征\n",
    "# 您可以根据具体情况选择添加缺失的特征或删除多余的特征\n",
    "# 为测试集中缺失的特征添加默认值\n",
    "for feature in missing_in_test:\n",
    "    if feature != 'target':  # 排除 'target'，因为它不应该在测试集中\n",
    "        \n",
    "        test_data[feature] = 0"
   ]
  },
  {
   "cell_type": "code",
   "execution_count": 9,
   "id": "04eb4bad-c23b-474e-99f4-623833ad2581",
   "metadata": {
    "execution": {
     "iopub.execute_input": "2023-12-25T15:20:37.381899Z",
     "iopub.status.busy": "2023-12-25T15:20:37.381750Z",
     "iopub.status.idle": "2023-12-25T15:20:47.176243Z",
     "shell.execute_reply": "2023-12-25T15:20:47.175549Z",
     "shell.execute_reply.started": "2023-12-25T15:20:37.381882Z"
    }
   },
   "outputs": [],
   "source": [
    "# 对测试数据进行概率预测\n",
    "test_probs = [model.predict(test_data) for model in models]\n",
    "test_prob = np.mean(test_probs, axis=0)\n",
    "test_class = (test_prob > 0.5).astype(int)\n"
   ]
  },
  {
   "cell_type": "code",
   "execution_count": 10,
   "id": "36d16c77-2bde-4861-bfab-d2843f47ec21",
   "metadata": {
    "execution": {
     "iopub.execute_input": "2023-12-25T15:20:47.177371Z",
     "iopub.status.busy": "2023-12-25T15:20:47.177054Z",
     "iopub.status.idle": "2023-12-25T15:20:47.409523Z",
     "shell.execute_reply": "2023-12-25T15:20:47.408631Z",
     "shell.execute_reply.started": "2023-12-25T15:20:47.177351Z"
    },
    "tags": []
   },
   "outputs": [],
   "source": [
    "# 创建一个包含 customer_ID 和预测概率的 DataFrame\n",
    "results_df = pd.DataFrame({\n",
    "    'customer_ID': customer_ids,\n",
    "    'prediction': test_class\n",
    "})\n",
    "\n",
    "# 将 DataFrame 保存为 CSV 文件\n",
    "result_csv = results_df.to_csv('predictions_cross_validation_lightGBM.csv', index=False)"
   ]
  },
  {
   "cell_type": "code",
   "execution_count": 12,
   "id": "d6583cbe-b49f-48ab-bedb-52f421048eeb",
   "metadata": {
    "execution": {
     "iopub.execute_input": "2023-12-25T15:24:18.016854Z",
     "iopub.status.busy": "2023-12-25T15:24:18.016462Z",
     "iopub.status.idle": "2023-12-25T15:24:18.022286Z",
     "shell.execute_reply": "2023-12-25T15:24:18.021301Z",
     "shell.execute_reply.started": "2023-12-25T15:24:18.016818Z"
    },
    "tags": []
   },
   "outputs": [
    {
     "name": "stdout",
     "output_type": "stream",
     "text": [
      "(158913, 2)\n",
      "(158913,)\n"
     ]
    }
   ],
   "source": [
    "print(cross_validation_test_label.shape)\n",
    "print(test_class.shape)"
   ]
  },
  {
   "cell_type": "code",
   "execution_count": null,
   "id": "e73a1bf5-12c6-4937-b199-0f6563ce78a5",
   "metadata": {},
   "outputs": [],
   "source": []
  }
 ],
 "metadata": {
  "kernelspec": {
   "display_name": "Python 3 (ipykernel)",
   "language": "python",
   "name": "python3"
  },
  "language_info": {
   "codemirror_mode": {
    "name": "ipython",
    "version": 3
   },
   "file_extension": ".py",
   "mimetype": "text/x-python",
   "name": "python",
   "nbconvert_exporter": "python",
   "pygments_lexer": "ipython3",
   "version": "3.8.18"
  }
 },
 "nbformat": 4,
 "nbformat_minor": 5
}
